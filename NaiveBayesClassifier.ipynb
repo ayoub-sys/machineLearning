{
  "nbformat": 4,
  "nbformat_minor": 0,
  "metadata": {
    "colab": {
      "provenance": [],
      "collapsed_sections": [],
      "authorship_tag": "ABX9TyPl7M7Y7vzG4JxGeOgpeBbw",
      "include_colab_link": true
    },
    "kernelspec": {
      "name": "python3",
      "display_name": "Python 3"
    },
    "language_info": {
      "name": "python"
    }
  },
  "cells": [
    {
      "cell_type": "markdown",
      "metadata": {
        "id": "view-in-github",
        "colab_type": "text"
      },
      "source": [
        "<a href=\"https://colab.research.google.com/github/ayoub-sys/machineLearning/blob/main/NaiveBayesClassifier.ipynb\" target=\"_parent\"><img src=\"https://colab.research.google.com/assets/colab-badge.svg\" alt=\"Open In Colab\"/></a>"
      ]
    },
    {
      "cell_type": "code",
      "execution_count": 68,
      "metadata": {
        "id": "CBZ6sLeY-Sr3"
      },
      "outputs": [],
      "source": [
        "import pandas as pd\n",
        "from google.colab import files \n",
        "import glob \n",
        "from sklearn.feature_extraction.text import CountVectorizer\n",
        "from sklearn.model_selection import train_test_split\n",
        "from sklearn.naive_bayes import MultinomialNB\n",
        "from sklearn.metrics import ConfusionMatrixDisplay, classification_report\n",
        "#uploaded=files.upload()"
      ]
    },
    {
      "cell_type": "code",
      "source": [
        "import glob \n",
        "import os\n",
        "files=glob.glob('/content/youtube-dataset/*.csv')\n",
        "files\n",
        "\n"
      ],
      "metadata": {
        "id": "hUw8HmP4_Yza"
      },
      "execution_count": null,
      "outputs": []
    },
    {
      "cell_type": "code",
      "source": [
        "all_df=[]\n",
        "for i in files : \n",
        "  all_df.append(pd.read_csv(i).drop(['COMMENT_ID', 'AUTHOR','DATE'],axis=1))"
      ],
      "metadata": {
        "id": "3USkfoU9BnOh"
      },
      "execution_count": 18,
      "outputs": []
    },
    {
      "cell_type": "code",
      "source": [
        "all_df[0]"
      ],
      "metadata": {
        "id": "56TySJiEB1Wv"
      },
      "execution_count": null,
      "outputs": []
    },
    {
      "cell_type": "code",
      "source": [
        "data=pd.concat(all_df,axis=0,ignore_index=True)\n",
        "data"
      ],
      "metadata": {
        "id": "7YFmzkqmCyBp"
      },
      "execution_count": null,
      "outputs": []
    },
    {
      "cell_type": "code",
      "source": [
        "data.isnull().sum()"
      ],
      "metadata": {
        "id": "_fEi6tO8EQbA"
      },
      "execution_count": null,
      "outputs": []
    },
    {
      "cell_type": "code",
      "source": [
        "data['CLASS'].value_counts()"
      ],
      "metadata": {
        "id": "cbyX0WEfEZMR"
      },
      "execution_count": null,
      "outputs": []
    },
    {
      "cell_type": "markdown",
      "source": [
        "Sample I"
      ],
      "metadata": {
        "id": "lLqsMbHRE0Fv"
      }
    },
    {
      "cell_type": "code",
      "source": [
        "message_sample=['This is a dog']\n",
        "vectorizer_sample=CountVectorizer()\n",
        "vectorizer_sample.fit(message_sample)\n",
        "vectorizer_sample.transform(message_sample).toarray()"
      ],
      "metadata": {
        "id": "rEmCv3WNFg6A"
      },
      "execution_count": null,
      "outputs": []
    },
    {
      "cell_type": "code",
      "source": [
        "vectorizer_sample.get_feature_names_out()"
      ],
      "metadata": {
        "id": "1ZYecJ6EGexa"
      },
      "execution_count": null,
      "outputs": []
    },
    {
      "cell_type": "code",
      "source": [
        "vectorizer_sample.transform(['This is a cat']).toarray()"
      ],
      "metadata": {
        "id": "lk7Sfab7Hcww"
      },
      "execution_count": null,
      "outputs": []
    },
    {
      "cell_type": "markdown",
      "source": [
        "# SAMPLE 2"
      ],
      "metadata": {
        "id": "7Is30KjzJPbw"
      }
    },
    {
      "cell_type": "markdown",
      "source": [],
      "metadata": {
        "id": "qazrKBew8avx"
      }
    },
    {
      "cell_type": "code",
      "source": [
        "message_sample2=['This is a dog and that is a dog','This is a cat']\n",
        "vectorizer_sample2=CountVectorizer()\n",
        "vectorizer_sample2.fit_transform(message_sample2).toarray()"
      ],
      "metadata": {
        "id": "ORHccVhBIkMR"
      },
      "execution_count": null,
      "outputs": []
    },
    {
      "cell_type": "code",
      "source": [
        "vectorizer_sample2.get_feature_names_out()"
      ],
      "metadata": {
        "id": "8r-GfxLTKXoB"
      },
      "execution_count": null,
      "outputs": []
    },
    {
      "cell_type": "code",
      "source": [
        "vectorizer_sample2.transform(['Those is are birds']).toarray()"
      ],
      "metadata": {
        "id": "E1uoxwU9MFNQ"
      },
      "execution_count": null,
      "outputs": []
    },
    {
      "cell_type": "markdown",
      "source": [
        "# Defining the inputs and the targets- Creating the train-test split \n"
      ],
      "metadata": {
        "id": "aPNXUo5qNJAA"
      }
    },
    {
      "cell_type": "code",
      "source": [
        "data.describe()"
      ],
      "metadata": {
        "id": "HrqFqFJTNUoQ"
      },
      "execution_count": null,
      "outputs": []
    },
    {
      "cell_type": "code",
      "source": [
        "inputs=data['CONTENT']\n",
        "target=data['CLASS']\n"
      ],
      "metadata": {
        "id": "knYjeyjqNtqZ"
      },
      "execution_count": 47,
      "outputs": []
    },
    {
      "cell_type": "code",
      "source": [
        "x_train,x_test,y_train, y_test= train_test_split(inputs,target,test_size=0.2, random_state=365,stratify=target)"
      ],
      "metadata": {
        "id": "3FnlVe24N2XG"
      },
      "execution_count": 48,
      "outputs": []
    },
    {
      "cell_type": "code",
      "source": [
        "y_train.value_counts(normalize=True)"
      ],
      "metadata": {
        "id": "1V173mzgRSV_"
      },
      "execution_count": null,
      "outputs": []
    },
    {
      "cell_type": "code",
      "source": [
        "y_test.value_counts(normalize=True)"
      ],
      "metadata": {
        "id": "jpO_ZEQnRn0o"
      },
      "execution_count": null,
      "outputs": []
    },
    {
      "cell_type": "markdown",
      "source": [
        "# Tokenize the youtube comments"
      ],
      "metadata": {
        "id": "zyyBsr8bR_HW"
      }
    },
    {
      "cell_type": "code",
      "source": [
        "vectorizer=CountVectorizer()\n",
        "x_train_transf=vectorizer.fit_transform(x_train)\n",
        "x_test_transf=vectorizer.transform(x_test)\n"
      ],
      "metadata": {
        "id": "4OvphourSEBn"
      },
      "execution_count": 52,
      "outputs": []
    },
    {
      "cell_type": "code",
      "source": [
        "x_train_transf.toarray()\n"
      ],
      "metadata": {
        "id": "k5cE67kcZ7rn"
      },
      "execution_count": null,
      "outputs": []
    },
    {
      "cell_type": "code",
      "source": [
        "x_train_transf.shape"
      ],
      "metadata": {
        "id": "9M0hIXMicmzw"
      },
      "execution_count": null,
      "outputs": []
    },
    {
      "cell_type": "code",
      "source": [
        "x_test_transf.toarray()\n"
      ],
      "metadata": {
        "id": "WWolI8HYctfX"
      },
      "execution_count": null,
      "outputs": []
    },
    {
      "cell_type": "code",
      "source": [
        "x_test_transf.shape"
      ],
      "metadata": {
        "id": "akf6FlSPdNoG"
      },
      "execution_count": null,
      "outputs": []
    },
    {
      "cell_type": "markdown",
      "source": [
        "# Performing the classification "
      ],
      "metadata": {
        "id": "rXQrwXXYeU_O"
      }
    },
    {
      "cell_type": "code",
      "source": [
        "clf= MultinomialNB()\n",
        "clf.fit(x_train_transf,y_train)"
      ],
      "metadata": {
        "id": "8Gv2ocp6ecHd"
      },
      "execution_count": null,
      "outputs": []
    },
    {
      "cell_type": "code",
      "source": [
        "clf.get_params()"
      ],
      "metadata": {
        "id": "fAOipNgVfW1n"
      },
      "execution_count": null,
      "outputs": []
    },
    {
      "cell_type": "markdown",
      "source": [
        "# Performing the evaluation on the test database "
      ],
      "metadata": {
        "id": "rTd51s7uf6TU"
      }
    },
    {
      "cell_type": "code",
      "source": [
        "y_test_pred=clf.predict(x_test_transf)\n",
        "ConfusionMatrixDisplay.from_predictions(y_test,y_test_pred,labels=clf.classes_, cmap='magma')"
      ],
      "metadata": {
        "id": "KN5RBovJf5YF"
      },
      "execution_count": null,
      "outputs": []
    },
    {
      "cell_type": "code",
      "source": [
        "print(classification_report(y_test,y_test_pred,target_names=['Ham','Spam']))"
      ],
      "metadata": {
        "id": "wplLlwCpf2aG"
      },
      "execution_count": null,
      "outputs": []
    }
  ]
}