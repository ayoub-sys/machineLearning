{
  "nbformat": 4,
  "nbformat_minor": 0,
  "metadata": {
    "colab": {
      "provenance": [],
      "collapsed_sections": [],
      "authorship_tag": "ABX9TyPrZDUu8pxji6G95NuKkp86",
      "include_colab_link": true
    },
    "kernelspec": {
      "name": "python3",
      "display_name": "Python 3"
    },
    "language_info": {
      "name": "python"
    }
  },
  "cells": [
    {
      "cell_type": "markdown",
      "metadata": {
        "id": "view-in-github",
        "colab_type": "text"
      },
      "source": [
        "<a href=\"https://colab.research.google.com/github/ayoub-sys/machineLearning/blob/main/spamMail.ipynb\" target=\"_parent\"><img src=\"https://colab.research.google.com/assets/colab-badge.svg\" alt=\"Open In Colab\"/></a>"
      ]
    },
    {
      "cell_type": "markdown",
      "source": [
        "# This program detects if an email is spam or not "
      ],
      "metadata": {
        "id": "j1F3kgLTm4OZ"
      }
    },
    {
      "cell_type": "code",
      "source": [
        "import numpy as n \n",
        "import pandas as pd\n",
        "import nltk \n",
        "from nltk.corpus import stopwords \n",
        "import string \n",
        "\n"
      ],
      "metadata": {
        "id": "BJnnyVjKnFsA"
      },
      "execution_count": null,
      "outputs": []
    },
    {
      "cell_type": "code",
      "source": [
        "from google.colab import files \n",
        "uploaded=files.upload()\n",
        " "
      ],
      "metadata": {
        "id": "sPBHsw08oG_y"
      },
      "execution_count": null,
      "outputs": []
    },
    {
      "cell_type": "code",
      "source": [
        "#read the csv file\n",
        "\n",
        "df=pd.read_csv('mail_data.csv')\n",
        "\n",
        "#print the first 5 rows of data \n",
        "df.head(5)"
      ],
      "metadata": {
        "id": "OCRxyUfsp83S"
      },
      "execution_count": null,
      "outputs": []
    },
    {
      "cell_type": "code",
      "source": [
        "#print thee shape (get the numbers of rows and columns)\n",
        "df.shape"
      ],
      "metadata": {
        "id": "9EMdnY8pqqL7"
      },
      "execution_count": null,
      "outputs": []
    },
    {
      "cell_type": "code",
      "source": [
        "#get the columns names \n",
        "df.columns\n"
      ],
      "metadata": {
        "id": "lJ3h1IcvrBjv"
      },
      "execution_count": null,
      "outputs": []
    },
    {
      "cell_type": "code",
      "source": [
        "#check for duplicates and remove them \n",
        "df.drop_duplicates(inplace=True)"
      ],
      "metadata": {
        "id": "0q1pL4P5rnNY"
      },
      "execution_count": null,
      "outputs": []
    },
    {
      "cell_type": "code",
      "source": [
        "df.shape"
      ],
      "metadata": {
        "id": "Ds7ePaLDrzko"
      },
      "execution_count": null,
      "outputs": []
    },
    {
      "cell_type": "code",
      "source": [
        "#show  the number of missing data(NaN,NAN,na) of each column \n",
        "df.isnull().sum()\n"
      ],
      "metadata": {
        "id": "eFrTuq-9r7un"
      },
      "execution_count": null,
      "outputs": []
    },
    {
      "cell_type": "code",
      "source": [
        "#Download the stopwords package \n",
        "nltk.download('stopwords')"
      ],
      "metadata": {
        "id": "mnPpn1-qs1L0"
      },
      "execution_count": null,
      "outputs": []
    },
    {
      "cell_type": "code",
      "source": [
        "print(string.punctuation)\n"
      ],
      "metadata": {
        "id": "VPjb24XUuUG4"
      },
      "execution_count": null,
      "outputs": []
    },
    {
      "cell_type": "code",
      "source": [
        "print(stopwords.words('english'))"
      ],
      "metadata": {
        "id": "Ez5DH4hTzZk3"
      },
      "execution_count": null,
      "outputs": []
    },
    {
      "cell_type": "code",
      "source": [
        "def process_text(text):\n",
        "  #1 remove punctuation \n",
        "  #2 remove stopwords \n",
        "  #3 return a list of clean text words \n",
        "\n",
        "  #1\n",
        "  nopunc=[char for char in text if char not in string.punctuation]\n",
        "  nopunc=''.join(nopunc)\n",
        "\n",
        "  #2 \n",
        "  clean_words=[word for word in nopunc.split() if word.lower() not in stopwords.words('english')]\n",
        "\n",
        "  #3\n",
        "  return clean_words \n",
        "\n",
        " \n",
        "\n"
      ],
      "metadata": {
        "id": "qbrW4X9ItcDI"
      },
      "execution_count": null,
      "outputs": []
    },
    {
      "cell_type": "code",
      "source": [
        "df['Message'].head()"
      ],
      "metadata": {
        "id": "nqmkYWykzvXv"
      },
      "execution_count": null,
      "outputs": []
    },
    {
      "cell_type": "code",
      "source": [
        "#show the tokenization (a list of tokens also calle lemmas )\n",
        "df['Message'].head().apply(process_text)"
      ],
      "metadata": {
        "id": "TnVkclnwxxaI"
      },
      "execution_count": null,
      "outputs": []
    },
    {
      "cell_type": "code",
      "source": [
        "\n",
        "message4='hello world hello hello world play'\n",
        "message5='test test test test one hello'\n",
        "print(message4)\n",
        "\n",
        "#converts the text to matrix of token counts\n",
        "from sklearn.feature_extraction.text import CountVectorizer\n",
        "bow4=CountVectorizer(analyzer=process_text).fit_transform([message4,message5])\n",
        "print(bow4)\n",
        "bow4.shape"
      ],
      "metadata": {
        "id": "jjM2mg-c2C1W"
      },
      "execution_count": null,
      "outputs": []
    },
    {
      "cell_type": "code",
      "source": [
        "# convert a collection of text  to a matrix of tokens \n",
        "from sklearn.feature_extraction.text import CountVectorizer\n",
        "message_bow=CountVectorizer(analyzer=process_text).fit_transform(df['Message'])\n",
        "print(message_bow)"
      ],
      "metadata": {
        "id": "xP5t3qVD4r3I"
      },
      "execution_count": null,
      "outputs": []
    },
    {
      "cell_type": "code",
      "source": [
        "#split the data into 80% training and 20% testing\n",
        "from sklearn.model_selection import train_test_split\n",
        "X_train,X_test,y_train,y_test=train_test_split(message_bow,df['Category'],test_size=0.2,random_state=0)\n",
        "print(X_train)\n",
        "print(y_train)\n",
        "print(df['Category'])"
      ],
      "metadata": {
        "id": "4PyUNs7M5PXI"
      },
      "execution_count": null,
      "outputs": []
    },
    {
      "cell_type": "code",
      "source": [
        "#get the shape of bow message\n",
        "message_bow.shape"
      ],
      "metadata": {
        "id": "vvgWWdnC9OIG"
      },
      "execution_count": null,
      "outputs": []
    },
    {
      "cell_type": "code",
      "source": [
        "#create and train the naive bayes classifier\n",
        "from sklearn.naive_bayes import MultinomialNB\n",
        "classifier=MultinomialNB().fit(X_train,y_train)"
      ],
      "metadata": {
        "id": "s-9COAYm9oVW"
      },
      "execution_count": null,
      "outputs": []
    },
    {
      "cell_type": "code",
      "source": [
        "# print the prediction\n",
        "print(classifier.predict(X_train))\n",
        "\n",
        "#print the actual values\n",
        "\n",
        "print(y_train)"
      ],
      "metadata": {
        "id": "bwOyFp2E-ew2"
      },
      "execution_count": null,
      "outputs": []
    },
    {
      "cell_type": "code",
      "source": [
        "#evaluate the model on the training dataset\n",
        "from sklearn.metrics import classification_report,confusion_matrix,accuracy_score\n",
        "pred=classifier.predict(X_train)\n",
        "print(classification_report(y_train,pred))\n",
        "print('confusion matrix \\n',confusion_matrix(y_train,pred))\n",
        "print()\n",
        "print('accuracy\\n',accuracy_score(y_train,pred))"
      ],
      "metadata": {
        "id": "S7XpcVzkN9jD"
      },
      "execution_count": null,
      "outputs": []
    },
    {
      "cell_type": "code",
      "source": [
        "# print the prediction\n",
        "print(classifier.predict(X_test))\n",
        "\n",
        "#print the actual values\n",
        "\n",
        "print(y_test)"
      ],
      "metadata": {
        "id": "pjcLHp3VQhXC"
      },
      "execution_count": null,
      "outputs": []
    },
    {
      "cell_type": "code",
      "source": [
        "#evaluate the model on the training dataset\n",
        "from sklearn.metrics import classification_report,confusion_matrix,accuracy_score\n",
        "pred=classifier.predict(X_test)\n",
        "print(classification_report(y_test,pred))\n",
        "print('confusion matrix \\n',confusion_matrix(y_test,pred))\n",
        "print()\n",
        "print('accuracy\\n',accuracy_score(y_test,pred))"
      ],
      "metadata": {
        "id": "cftWebcXRa3U"
      },
      "execution_count": null,
      "outputs": []
    }
  ]
}