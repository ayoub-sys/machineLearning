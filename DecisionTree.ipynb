{
  "nbformat": 4,
  "nbformat_minor": 0,
  "metadata": {
    "colab": {
      "provenance": [],
      "collapsed_sections": [],
      "authorship_tag": "ABX9TyOOCExDBs3du/h1zc3DHWu0",
      "include_colab_link": true
    },
    "kernelspec": {
      "name": "python3",
      "display_name": "Python 3"
    },
    "language_info": {
      "name": "python"
    }
  },
  "cells": [
    {
      "cell_type": "markdown",
      "metadata": {
        "id": "view-in-github",
        "colab_type": "text"
      },
      "source": [
        "<a href=\"https://colab.research.google.com/github/ayoub-sys/machineLearning/blob/main/DecisionTree.ipynb\" target=\"_parent\"><img src=\"https://colab.research.google.com/assets/colab-badge.svg\" alt=\"Open In Colab\"/></a>"
      ]
    },
    {
      "cell_type": "code",
      "source": [
        "import numpy as np \n",
        "import matplotlib.pyplot as plt \n",
        "from sklearn.datasets import load_iris \n",
        "from sklearn.tree import DecisionTreeClassifier, plot_tree"
      ],
      "metadata": {
        "id": "_1KMRt3lPmfX"
      },
      "execution_count": 2,
      "outputs": []
    },
    {
      "cell_type": "markdown",
      "source": [
        "**The dataset**"
      ],
      "metadata": {
        "id": "ebWUhbBuQLRp"
      }
    },
    {
      "cell_type": "code",
      "source": [
        "iris=load_iris()\n",
        "X,y=iris.data, iris.target\n",
        "X\n"
      ],
      "metadata": {
        "id": "UM7BpXMMQN1e"
      },
      "execution_count": null,
      "outputs": []
    },
    {
      "cell_type": "code",
      "source": [
        "np.shape(X)"
      ],
      "metadata": {
        "id": "fPfl9D2dQqHB"
      },
      "execution_count": null,
      "outputs": []
    },
    {
      "cell_type": "code",
      "source": [
        "np.shape(y)\n"
      ],
      "metadata": {
        "id": "KA3AtBV9QvGQ"
      },
      "execution_count": null,
      "outputs": []
    },
    {
      "cell_type": "markdown",
      "source": [
        "**Creating Decision Tree**"
      ],
      "metadata": {
        "id": "V9HNM7IjQ1xQ"
      }
    },
    {
      "cell_type": "code",
      "source": [
        "clf=DecisionTreeClassifier()\n"
      ],
      "metadata": {
        "id": "KNDW68BgQ4gv"
      },
      "execution_count": 7,
      "outputs": []
    },
    {
      "cell_type": "code",
      "source": [
        "clf.fit(X,y)"
      ],
      "metadata": {
        "id": "w4RJlqNVQ-Lg"
      },
      "execution_count": null,
      "outputs": []
    },
    {
      "cell_type": "code",
      "source": [
        "clf.predict([[6.1,3.7,3.9,1.2]])"
      ],
      "metadata": {
        "id": "wjhDP9aFRYNA"
      },
      "execution_count": null,
      "outputs": []
    },
    {
      "cell_type": "markdown",
      "source": [
        "# Visualising the tree"
      ],
      "metadata": {
        "id": "-_F5aMHCSDYW"
      }
    },
    {
      "cell_type": "code",
      "source": [
        "plot_tree(clf)"
      ],
      "metadata": {
        "id": "POdZEcUiSF_w"
      },
      "execution_count": null,
      "outputs": []
    },
    {
      "cell_type": "code",
      "source": [
        "plt.figure(figsize=(15,12))\n",
        "plot_tree(clf,filled=True,feature_names=['Sepal Length','Sepal width','Petal Length','Petal width'],class_names=['Setosa','Versicolour','Virginica'])\n",
        "plt.show()"
      ],
      "metadata": {
        "id": "F8aRXA8zSU_P"
      },
      "execution_count": null,
      "outputs": []
    }
  ]
}