{
  "nbformat": 4,
  "nbformat_minor": 0,
  "metadata": {
    "colab": {
      "provenance": [],
      "collapsed_sections": [],
      "authorship_tag": "ABX9TyNE7tOUTLx1eaiznm7Oh8EL",
      "include_colab_link": true
    },
    "kernelspec": {
      "name": "python3",
      "display_name": "Python 3"
    },
    "language_info": {
      "name": "python"
    }
  },
  "cells": [
    {
      "cell_type": "markdown",
      "metadata": {
        "id": "view-in-github",
        "colab_type": "text"
      },
      "source": [
        "<a href=\"https://colab.research.google.com/github/ayoub-sys/machineLearning/blob/main/scanFile.ipynb\" target=\"_parent\"><img src=\"https://colab.research.google.com/assets/colab-badge.svg\" alt=\"Open In Colab\"/></a>"
      ]
    },
    {
      "cell_type": "code",
      "source": [
        "!pip install python-whois"
      ],
      "metadata": {
        "id": "MX5GrbWK7Nm_"
      },
      "execution_count": null,
      "outputs": []
    },
    {
      "cell_type": "markdown",
      "source": [
        "#Feature extraction"
      ],
      "metadata": {
        "id": "qZ9kTjx_7s2V"
      }
    },
    {
      "cell_type": "code",
      "execution_count": null,
      "metadata": {
        "id": "_BrElLHc6-Nw"
      },
      "outputs": [],
      "source": [
        "import ipaddress\n",
        "import re\n",
        "import urllib.request\n",
        "from bs4 import BeautifulSoup\n",
        "import socket\n",
        "import requests\n",
        "from googlesearch import search\n",
        "import whois\n",
        "from datetime import date, datetime\n",
        "import time\n",
        "from dateutil.parser import parse as date_parse\n",
        "\n",
        "\n",
        "def diff_month(d1, d2):\n",
        "    return (d1.year - d2.year) * 12 + d1.month - d2.month\n",
        "\n",
        "\n",
        "def generate_data_set(url):\n",
        "\n",
        "    data_set = []\n",
        "\n",
        "    if not re.match(r\"^https?\", url):\n",
        "        url = \"http://\" + url\n",
        "\n",
        "    try:\n",
        "        response = requests.get(url)\n",
        "        soup = BeautifulSoup(response.text, 'html.parser')\n",
        "    except:\n",
        "        response = \"\"\n",
        "        soup = -999\n",
        "\n",
        "    domain = re.findall(r\"://([^/]+)/?\", url)[0]\n",
        "    if re.match(r\"^www.\", domain):\n",
        "        domain = domain.replace(\"www.\", \"\")\n",
        "    whois_response = whois.whois(domain)\n",
        "\n",
        "    rank_checker_response = requests.post(\"https://www.checkpagerank.net/index.php\", {\n",
        "        \"name\": domain\n",
        "    })\n",
        "\n",
        "    try:\n",
        "        global_rank = int(re.findall(\n",
        "            r\"Global Rank: ([0-9]+)\", rank_checker_response.text)[0])\n",
        "    except:\n",
        "        global_rank = -1\n",
        "\n",
        "     \n",
        "    # 1.UsingIP\n",
        "    try:\n",
        "        ipaddress.ip_address(url)\n",
        "        data_set.append(-1)\n",
        "    except:\n",
        "        data_set.append(1)\n",
        "\n",
        "     \n",
        "    # 2.LongURL\n",
        "    if len(url) < 54:\n",
        "        data_set.append(1)\n",
        "    elif len(url) >= 54 and len(url) <= 75:\n",
        "        data_set.append(0)\n",
        "    else:\n",
        "        data_set.append(-1)\n",
        "\n",
        "     \n",
        "    # 3.ShortURL\n",
        "    match = re.search('bit\\.ly|goo\\.gl|shorte\\.st|go2l\\.ink|x\\.co|ow\\.ly|t\\.co|tinyurl|tr\\.im|is\\.gd|cli\\.gs|'\n",
        "                      'yfrog\\.com|migre\\.me|ff\\.im|tiny\\.cc|url4\\.eu|twit\\.ac|su\\.pr|twurl\\.nl|snipurl\\.com|'\n",
        "                      'short\\.to|BudURL\\.com|ping\\.fm|post\\.ly|Just\\.as|bkite\\.com|snipr\\.com|fic\\.kr|loopt\\.us|'\n",
        "                      'doiop\\.com|short\\.ie|kl\\.am|wp\\.me|rubyurl\\.com|om\\.ly|to\\.ly|bit\\.do|t\\.co|lnkd\\.in|'\n",
        "                      'db\\.tt|qr\\.ae|adf\\.ly|goo\\.gl|bitly\\.com|cur\\.lv|tinyurl\\.com|ow\\.ly|bit\\.ly|ity\\.im|'\n",
        "                      'q\\.gs|is\\.gd|po\\.st|bc\\.vc|twitthis\\.com|u\\.to|j\\.mp|buzurl\\.com|cutt\\.us|u\\.bb|yourls\\.org|'\n",
        "                      'x\\.co|prettylinkpro\\.com|scrnch\\.me|filoops\\.info|vzturl\\.com|qr\\.net|1url\\.com|tweez\\.me|v\\.gd|tr\\.im|link\\.zip\\.net', url)\n",
        "    if match:\n",
        "        data_set.append(-1)\n",
        "    else:\n",
        "        data_set.append(1)\n",
        "\n",
        "    # 4.Symbol@\n",
        "    if re.findall(\"@\", url):\n",
        "        data_set.append(-1)\n",
        "    else:\n",
        "        data_set.append(1)\n",
        "\n",
        "     \n",
        "    # 5.Redirecting//\n",
        "    list = [x.start(0) for x in re.finditer('//', url)]\n",
        "    if list[len(list)-1] > 6:\n",
        "        data_set.append(-1)\n",
        "    else:\n",
        "        data_set.append(1)\n",
        "\n",
        "     \n",
        "    # 6.PrefixSuffix-\n",
        "    if re.findall(r\"https?://[^\\-]+-[^\\-]+/\", url):\n",
        "        data_set.append(-1)\n",
        "    else:\n",
        "        data_set.append(1)\n",
        "\n",
        "     \n",
        "    # 7.SubDomains\n",
        "    if len(re.findall(\"\\.\", url)) == 1:\n",
        "        data_set.append(1)\n",
        "    elif len(re.findall(\"\\.\", url)) == 2:\n",
        "        data_set.append(0)\n",
        "    else:\n",
        "        data_set.append(-1)\n",
        "\n",
        "     \n",
        "    # 8.HTTPS\n",
        "    try:\n",
        "        if response.text:\n",
        "            data_set.append(1)\n",
        "    except:\n",
        "        data_set.append(-1)\n",
        "\n",
        "     \n",
        "    # 9.DomainRegLen\n",
        "    expiration_date = whois_response.expiration_date\n",
        "    registration_length = 0\n",
        "    try:\n",
        "        expiration_date = min(expiration_date)\n",
        "        today = time.strftime('%Y-%m-%d')\n",
        "        today = datetime.strptime(today, '%Y-%m-%d')\n",
        "        registration_length = abs((expiration_date - today).days)\n",
        "\n",
        "        if registration_length / 365 <= 1:\n",
        "            data_set.append(-1)\n",
        "        else:\n",
        "            data_set.append(1)\n",
        "    except:\n",
        "        data_set.append(-1)\n",
        "\n",
        "     \n",
        "    # 10.Favicon\n",
        "    if soup == -999:\n",
        "        data_set.append(-1)\n",
        "    else:\n",
        "        try:\n",
        "            for head in soup.find_all('head'):\n",
        "                for head.link in soup.find_all('link', href=True):\n",
        "                    dots = [x.start(0)\n",
        "                            for x in re.finditer('\\.', head.link['href'])]\n",
        "                    if url in head.link['href'] or len(dots) == 1 or domain in head.link['href']:\n",
        "                        data_set.append(1)\n",
        "                        raise StopIteration\n",
        "                    else:\n",
        "                        data_set.append(-1)\n",
        "                        raise StopIteration\n",
        "        except StopIteration:\n",
        "            pass\n",
        "\n",
        "     \n",
        "    # 11. NonStdPort\n",
        "    try:\n",
        "        port = domain.split(\":\")[1]\n",
        "        if port:\n",
        "            data_set.append(-1)\n",
        "        else:\n",
        "            data_set.append(1)\n",
        "    except:\n",
        "        data_set.append(1)\n",
        "\n",
        "     \n",
        "    # 12. HTTPSDomainURL\n",
        "    if re.findall(r\"^https://\", url):\n",
        "        data_set.append(1)\n",
        "    else:\n",
        "        data_set.append(-1)\n",
        "\n",
        "     \n",
        "    # 13. RequestURL\n",
        "    i = 0\n",
        "    success = 0\n",
        "    if soup == -999:\n",
        "        data_set.append(-1)\n",
        "    else:\n",
        "        for img in soup.find_all('img', src=True):\n",
        "            dots = [x.start(0) for x in re.finditer('\\.', img['src'])]\n",
        "            if url in img['src'] or domain in img['src'] or len(dots) == 1:\n",
        "                success = success + 1\n",
        "            i = i+1\n",
        "\n",
        "        for audio in soup.find_all('audio', src=True):\n",
        "            dots = [x.start(0) for x in re.finditer('\\.', audio['src'])]\n",
        "            if url in audio['src'] or domain in audio['src'] or len(dots) == 1:\n",
        "                success = success + 1\n",
        "            i = i+1\n",
        "\n",
        "        for embed in soup.find_all('embed', src=True):\n",
        "            dots = [x.start(0) for x in re.finditer('\\.', embed['src'])]\n",
        "            if url in embed['src'] or domain in embed['src'] or len(dots) == 1:\n",
        "                success = success + 1\n",
        "            i = i+1\n",
        "\n",
        "        for iframe in soup.find_all('iframe', src=True):\n",
        "            dots = [x.start(0) for x in re.finditer('\\.', iframe['src'])]\n",
        "            if url in iframe['src'] or domain in iframe['src'] or len(dots) == 1:\n",
        "                success = success + 1\n",
        "            i = i+1\n",
        "\n",
        "        try:\n",
        "            percentage = success/float(i) * 100\n",
        "            if percentage < 22.0:\n",
        "                data_set.append(1)\n",
        "            elif((percentage >= 22.0) and (percentage < 61.0)):\n",
        "                data_set.append(0)\n",
        "            else:\n",
        "                data_set.append(-1)\n",
        "        except:\n",
        "            data_set.append(1)\n",
        "\n",
        "     \n",
        "    # 14. AnchorURL\n",
        "    percentage = 0\n",
        "    i = 0\n",
        "    unsafe = 0\n",
        "    ex = True\n",
        "    if soup == -999:\n",
        "        data_set.append(-1)\n",
        "    else:\n",
        "        for a in soup.find_all('a', href=True):\n",
        "            # 2nd condition was 'JavaScript ::void(0)' but we put JavaScript because the space between javascript and :: might not be there in the actual a['href']\n",
        "            if \"#\" in a['href'] or \"javascript\" in a['href'].lower() or \"mailto\" in a['href'].lower() or not (url in a['href'] or domain in a['href']):\n",
        "                unsafe = unsafe + 1\n",
        "            i = i + 1\n",
        "\n",
        "        try:\n",
        "            percentage = unsafe / float(i) * 100\n",
        "        except:\n",
        "            ex = False\n",
        "            data_set.append(1)\n",
        "\n",
        "        if(ex):\n",
        "            if percentage < 31.0:\n",
        "                data_set.append(1)\n",
        "            elif ((percentage >= 31.0) and (percentage < 67.0)):\n",
        "                data_set.append(0)\n",
        "            else:\n",
        "                data_set.append(-1)\n",
        "\n",
        "     \n",
        "    # 15. LinksInScriptTags\n",
        "    i = 0\n",
        "    success = 0\n",
        "    if soup == -999:\n",
        "        data_set.append(-1)\n",
        "        data_set.append(0)\n",
        "    else:\n",
        "        for link in soup.find_all('link', href=True):\n",
        "            dots = [x.start(0) for x in re.finditer('\\.', link['href'])]\n",
        "            if url in link['href'] or domain in link['href'] or len(dots) == 1:\n",
        "                success = success + 1\n",
        "            i = i+1\n",
        "\n",
        "        for script in soup.find_all('script', src=True):\n",
        "            dots = [x.start(0) for x in re.finditer('\\.', script['src'])]\n",
        "            if url in script['src'] or domain in script['src'] or len(dots) == 1:\n",
        "                success = success + 1\n",
        "            i = i+1\n",
        "        try:\n",
        "            percentage = success / float(i) * 100\n",
        "        except:\n",
        "            data_set.append(1)\n",
        "\n",
        "        if percentage < 17.0:\n",
        "            data_set.append(1)\n",
        "        elif((percentage >= 17.0) and (percentage < 81.0)):\n",
        "            data_set.append(0)\n",
        "        else:\n",
        "            data_set.append(-1)\n",
        "            \n",
        "         \n",
        "        # 16. ServerFormHandler\n",
        "        if len(soup.find_all('form', action=True))==0:\n",
        "            data_set.append(1)\n",
        "        else :\n",
        "            for form in soup.find_all('form', action=True):\n",
        "                if form['action'] == \"\" or form['action'] == \"about:blank\":\n",
        "                    data_set.append(-1)\n",
        "                    break\n",
        "                elif url not in form['action'] and domain not in form['action']:\n",
        "                    data_set.append(0)\n",
        "                    break\n",
        "                else:\n",
        "                    data_set.append(1)\n",
        "                    break\n",
        "\n",
        "     \n",
        "    # 17. InfoEmail\n",
        "    if response == \"\":\n",
        "        data_set.append(-1)\n",
        "    else:\n",
        "        if re.findall(r\"[mail\\(\\)|mailto:?]\", response.text):\n",
        "            data_set.append(-1)\n",
        "        else:\n",
        "            data_set.append(1)\n",
        "\n",
        "     \n",
        "    # 18. AbnormalURL\n",
        "    if response == \"\":\n",
        "        data_set.append(-1)\n",
        "    else:\n",
        "        if response.text == whois_response:\n",
        "            data_set.append(1)\n",
        "        else:\n",
        "            data_set.append(-1)\n",
        "       \n",
        "    # 19. WebsiteForwarding\n",
        "    if response == \"\":\n",
        "        data_set.append(-1)\n",
        "    else:\n",
        "        if len(response.history) <= 1:\n",
        "            data_set.append(-1)\n",
        "        elif len(response.history) <= 4:\n",
        "            data_set.append(0)\n",
        "        else:\n",
        "            data_set.append(1)\n",
        "\n",
        "     \n",
        "    # 20. StatusBarCust\n",
        "    if response == \"\":\n",
        "        data_set.append(-1)\n",
        "    else:\n",
        "        if re.findall(\"<script>.+onmouseover.+</script>\", response.text):\n",
        "            data_set.append(1)\n",
        "        else:\n",
        "            data_set.append(-1)\n",
        "\n",
        "     \n",
        "    # 21. DisableRightClick\n",
        "    if response == \"\":\n",
        "        data_set.append(-1)\n",
        "    else:\n",
        "        if re.findall(r\"event.button ?== ?2\", response.text):\n",
        "            data_set.append(1)\n",
        "        else:\n",
        "            data_set.append(-1)\n",
        "\n",
        "    # 22. UsingPopupWindow\n",
        "    if response == \"\":\n",
        "        data_set.append(-1)\n",
        "    else:\n",
        "        if re.findall(r\"alert\\(\", response.text):\n",
        "            data_set.append(1)\n",
        "        else:\n",
        "            data_set.append(-1)\n",
        "\n",
        "     \n",
        "    # 23. IframeRedirection\n",
        "    if response == \"\":\n",
        "        data_set.append(-1)\n",
        "    else:\n",
        "        if re.findall(r\"[<iframe>|<frameBorder>]\", response.text):\n",
        "            data_set.append(1)\n",
        "        else:\n",
        "            data_set.append(-1)\n",
        "\n",
        "    # 24. AgeofDomain\n",
        "    if response == \"\":\n",
        "        data_set.append(-1)\n",
        "    else:\n",
        "        try:\n",
        "            registration_date = re.findall(\n",
        "                    r'Registration Date:</div><div class=\"df-value\">([^<]+)</div>', whois_response.text)[0]\n",
        "            if diff_month(date.today(), date_parse(registration_date)) >= 6:\n",
        "                data_set.append(-1)\n",
        "            else:\n",
        "                data_set.append(1)\n",
        "        except:\n",
        "            data_set.append(1)\n",
        "\n",
        "     \n",
        "    # 25. DNSRecording\n",
        "    dns = 1\n",
        "    try:\n",
        "        d = whois.whois(domain)\n",
        "    except:\n",
        "        dns = -1\n",
        "    if dns == -1:\n",
        "        data_set.append(-1)\n",
        "    else:\n",
        "        if registration_length / 365 <= 1:\n",
        "            data_set.append(-1)\n",
        "        else:\n",
        "            data_set.append(1)\n",
        "\n",
        "    # 26. WebsiteTraffic\n",
        "    try:\n",
        "        rank = BeautifulSoup(urllib.request.urlopen(\"http://data.alexa.com/data?cli=10&dat=s&url=\" + url).read(), \"xml\").find(\"REACH\")['RANK']\n",
        "        rank = int(rank)\n",
        "        if (rank < 100000):\n",
        "            data_set.append(1)\n",
        "        else:\n",
        "            data_set.append(0)\n",
        "    except :\n",
        "        data_set.append(-1)\n",
        "\n",
        "     \n",
        "    # 27. PageRank\n",
        "    try:\n",
        "        if global_rank > 0 and global_rank < 100000:\n",
        "            data_set.append(-1)\n",
        "        else:\n",
        "            data_set.append(1)\n",
        "    except:\n",
        "        data_set.append(1)\n",
        "\n",
        "     \n",
        "    # 28. GoogleIndex\n",
        "    site = search(url, 5)\n",
        "    if site:\n",
        "        data_set.append(1)\n",
        "    else:\n",
        "        data_set.append(-1)\n",
        "\n",
        "    # 29. LinksPointingToPage\n",
        "    if response == \"\":\n",
        "        data_set.append(-1)\n",
        "    else:\n",
        "        number_of_links = len(re.findall(r\"<a href=\", response.text))\n",
        "        if number_of_links == 0:\n",
        "            data_set.append(1)\n",
        "        elif number_of_links <= 2:\n",
        "            data_set.append(0)\n",
        "        else:\n",
        "            data_set.append(-1)\n",
        "\n",
        "     \n",
        "    # 30. StatsReport\n",
        "    url_match = re.search(\n",
        "        'at\\.ua|usa\\.cc|baltazarpresentes\\.com\\.br|pe\\.hu|esy\\.es|hol\\.es|sweddy\\.com|myjino\\.ru|96\\.lt|ow\\.ly', url)\n",
        "    try:\n",
        "        ip_address = socket.gethostbyname(domain)\n",
        "        ip_match = re.search('146\\.112\\.61\\.108|213\\.174\\.157\\.151|121\\.50\\.168\\.88|192\\.185\\.217\\.116|78\\.46\\.211\\.158|181\\.174\\.165\\.13|46\\.242\\.145\\.103|121\\.50\\.168\\.40|83\\.125\\.22\\.219|46\\.242\\.145\\.98|'\n",
        "                             '107\\.151\\.148\\.44|107\\.151\\.148\\.107|64\\.70\\.19\\.203|199\\.184\\.144\\.27|107\\.151\\.148\\.108|107\\.151\\.148\\.109|119\\.28\\.52\\.61|54\\.83\\.43\\.69|52\\.69\\.166\\.231|216\\.58\\.192\\.225|'\n",
        "                             '118\\.184\\.25\\.86|67\\.208\\.74\\.71|23\\.253\\.126\\.58|104\\.239\\.157\\.210|175\\.126\\.123\\.219|141\\.8\\.224\\.221|10\\.10\\.10\\.10|43\\.229\\.108\\.32|103\\.232\\.215\\.140|69\\.172\\.201\\.153|'\n",
        "                             '216\\.218\\.185\\.162|54\\.225\\.104\\.146|103\\.243\\.24\\.98|199\\.59\\.243\\.120|31\\.170\\.160\\.61|213\\.19\\.128\\.77|62\\.113\\.226\\.131|208\\.100\\.26\\.234|195\\.16\\.127\\.102|195\\.16\\.127\\.157|'\n",
        "                             '34\\.196\\.13\\.28|103\\.224\\.212\\.222|172\\.217\\.4\\.225|54\\.72\\.9\\.51|192\\.64\\.147\\.141|198\\.200\\.56\\.183|23\\.253\\.164\\.103|52\\.48\\.191\\.26|52\\.214\\.197\\.72|87\\.98\\.255\\.18|209\\.99\\.17\\.27|'\n",
        "                             '216\\.38\\.62\\.18|104\\.130\\.124\\.96|47\\.89\\.58\\.141|78\\.46\\.211\\.158|54\\.86\\.225\\.156|54\\.82\\.156\\.19|37\\.157\\.192\\.102|204\\.11\\.56\\.48|110\\.34\\.231\\.42', ip_address)\n",
        "        if url_match:\n",
        "            data_set.append(-1)\n",
        "        elif ip_match:\n",
        "            data_set.append(-1)\n",
        "        else:\n",
        "            data_set.append(1)\n",
        "    except:\n",
        "        data_set.append(1)\n",
        "        \n",
        "\n",
        "    return data_set\n"
      ]
    },
    {
      "cell_type": "markdown",
      "source": [
        "#Training and testing\n"
      ],
      "metadata": {
        "id": "2Hma0QmC7kfQ"
      }
    },
    {
      "cell_type": "markdown",
      "source": [
        "#loading data"
      ],
      "metadata": {
        "id": "aPvRxpp673Wf"
      }
    },
    {
      "cell_type": "code",
      "source": [
        "from google.colab import files \n",
        "uploaded=files.upload()"
      ],
      "metadata": {
        "id": "4a1SVdfd7nQY"
      },
      "execution_count": null,
      "outputs": []
    },
    {
      "cell_type": "code",
      "source": [
        "#importing required libraries\n",
        "\n",
        "import numpy as np\n",
        "import pandas as pd\n",
        "import matplotlib.pyplot as plt\n",
        "%matplotlib inline\n",
        "import seaborn as sns\n",
        "from sklearn import metrics \n",
        "import warnings\n",
        "warnings.filterwarnings('ignore')\n"
      ],
      "metadata": {
        "id": "i0hLKUol8mJv"
      },
      "execution_count": null,
      "outputs": []
    },
    {
      "cell_type": "code",
      "source": [
        "data = pd.read_csv(\"phishing.csv\")\n",
        "data.head()"
      ],
      "metadata": {
        "id": "EaNlxPU08UM4"
      },
      "execution_count": null,
      "outputs": []
    },
    {
      "cell_type": "markdown",
      "source": [
        "#Familiarizing with Data & EDA:"
      ],
      "metadata": {
        "id": "zQsOYFqU81IW"
      }
    },
    {
      "cell_type": "code",
      "source": [
        "#Shape of dataframe\n",
        "\n",
        "data.shape"
      ],
      "metadata": {
        "id": "48mlDLMx84eF"
      },
      "execution_count": null,
      "outputs": []
    },
    {
      "cell_type": "code",
      "source": [
        "#Listing the features of the dataset\n",
        "\n",
        "data.columns"
      ],
      "metadata": {
        "id": "zRDEmPs68qoO"
      },
      "execution_count": null,
      "outputs": []
    },
    {
      "cell_type": "code",
      "source": [
        "#Information about the dataset\n",
        "\n",
        "data.info()"
      ],
      "metadata": {
        "id": "fFQCWEus9AZO"
      },
      "execution_count": null,
      "outputs": []
    },
    {
      "cell_type": "code",
      "source": [
        "# nunique value in columns\n",
        "\n",
        "data.nunique()"
      ],
      "metadata": {
        "id": "hP84iTad9Ief"
      },
      "execution_count": null,
      "outputs": []
    },
    {
      "cell_type": "code",
      "source": [
        "#droping index column\n",
        "\n",
        "data = data.drop(['Index'],axis = 1)"
      ],
      "metadata": {
        "id": "YNOw0e9H9SNX"
      },
      "execution_count": null,
      "outputs": []
    },
    {
      "cell_type": "code",
      "source": [
        "#description of dataset\n",
        "\n",
        "data.describe().T"
      ],
      "metadata": {
        "id": "HLUcRCS69V6e"
      },
      "execution_count": null,
      "outputs": []
    },
    {
      "cell_type": "markdown",
      "source": [
        "#Visualizing the data:"
      ],
      "metadata": {
        "id": "nFHDi4Ez9kze"
      }
    },
    {
      "cell_type": "code",
      "source": [
        "#Correlation heatmap\n",
        "\n",
        "plt.figure(figsize=(15,15))\n",
        "sns.heatmap(data.corr(), annot=True)\n",
        "plt.show()"
      ],
      "metadata": {
        "id": "Shi549qK9mxe"
      },
      "execution_count": null,
      "outputs": []
    },
    {
      "cell_type": "code",
      "source": [
        "#pairplot for particular features\n",
        "\n",
        "df = data[['PrefixSuffix-', 'SubDomains', 'HTTPS','AnchorURL','WebsiteTraffic','class']]\n",
        "sns.pairplot(data = df,hue=\"class\",corner=True)"
      ],
      "metadata": {
        "id": "mmnYyitz9e8W"
      },
      "execution_count": null,
      "outputs": []
    },
    {
      "cell_type": "code",
      "source": [
        "# Phishing Count in pie chart\n",
        "\n",
        "data['class'].value_counts().plot(kind='pie',autopct='%1.2f%%')\n",
        "plt.title(\"Phishing Count\")\n",
        "plt.show()"
      ],
      "metadata": {
        "id": "WV1YPHRj99m3"
      },
      "execution_count": null,
      "outputs": []
    },
    {
      "cell_type": "markdown",
      "source": [
        "#Splitting the Data:"
      ],
      "metadata": {
        "id": "JrCif0p6-Bh-"
      }
    },
    {
      "cell_type": "code",
      "source": [
        "# Splitting the dataset into dependant and independant fetature\n",
        "\n",
        "X = data.drop([\"class\"],axis =1)\n",
        "y = data[\"class\"]"
      ],
      "metadata": {
        "id": "K1nJjaaG-DGt"
      },
      "execution_count": null,
      "outputs": []
    },
    {
      "cell_type": "code",
      "source": [
        "# Splitting the dataset into train and test sets: 80-20 split\n",
        "\n",
        "from sklearn.model_selection import train_test_split\n",
        "\n",
        "X_train, X_test, y_train, y_test = train_test_split(X, y, test_size = 0.2, random_state = 42)\n",
        "X_train.shape, y_train.shape, X_test.shape, y_test.shape"
      ],
      "metadata": {
        "id": "AxkDuD8S-I_e"
      },
      "execution_count": null,
      "outputs": []
    },
    {
      "cell_type": "markdown",
      "source": [
        "#Model Building & Training"
      ],
      "metadata": {
        "id": "WPt06uSN-OVm"
      }
    },
    {
      "cell_type": "code",
      "source": [
        "# Creating holders to store the model performance results\n",
        "ML_Model = []\n",
        "accuracy = []\n",
        "f1_score = []\n",
        "recall = []\n",
        "precision = []\n",
        "\n",
        "#function to call for storing the results\n",
        "def storeResults(model, a,b,c,d):\n",
        "  ML_Model.append(model)\n",
        "  accuracy.append(round(a, 3))\n",
        "  f1_score.append(round(b, 3))\n",
        "  recall.append(round(c, 3))\n",
        "  precision.append(round(d, 3))"
      ],
      "metadata": {
        "id": "SGeoAjr2-P_O"
      },
      "execution_count": null,
      "outputs": []
    },
    {
      "cell_type": "markdown",
      "source": [
        "# Logistic Regression"
      ],
      "metadata": {
        "id": "vCwxPAHG-YU2"
      }
    },
    {
      "cell_type": "code",
      "source": [
        "# Linear regression model \n",
        "from sklearn.linear_model import LogisticRegression\n",
        "#from sklearn.pipeline import Pipeline\n",
        "\n",
        "# instantiate the model\n",
        "log = LogisticRegression()\n",
        "\n",
        "# fit the model \n",
        "log.fit(X_train,y_train)"
      ],
      "metadata": {
        "id": "EKkUAm8i-aKF"
      },
      "execution_count": null,
      "outputs": []
    },
    {
      "cell_type": "code",
      "source": [
        "#predicting the target value from the model for the samples\n",
        "\n",
        "y_train_log = log.predict(X_train)\n",
        "y_test_log = log.predict(X_test)"
      ],
      "metadata": {
        "id": "uGrKCSxF-W2-"
      },
      "execution_count": null,
      "outputs": []
    },
    {
      "cell_type": "code",
      "source": [
        "#computing the accuracy, f1_score, Recall, precision of the model performance\n",
        "\n",
        "acc_train_log = metrics.accuracy_score(y_train,y_train_log)\n",
        "acc_test_log = metrics.accuracy_score(y_test,y_test_log)\n",
        "print(\"Logistic Regression : Accuracy on training Data: {:.3f}\".format(acc_train_log))\n",
        "print(\"Logistic Regression : Accuracy on test Data: {:.3f}\".format(acc_test_log))\n",
        "print()\n",
        "\n",
        "f1_score_train_log = metrics.f1_score(y_train,y_train_log)\n",
        "f1_score_test_log = metrics.f1_score(y_test,y_test_log)\n",
        "print(\"Logistic Regression : f1_score on training Data: {:.3f}\".format(f1_score_train_log))\n",
        "print(\"Logistic Regression : f1_score on test Data: {:.3f}\".format(f1_score_test_log))\n",
        "print()\n",
        "\n",
        "recall_score_train_log = metrics.recall_score(y_train,y_train_log)\n",
        "recall_score_test_log = metrics.recall_score(y_test,y_test_log)\n",
        "print(\"Logistic Regression : Recall on training Data: {:.3f}\".format(recall_score_train_log))\n",
        "print(\"Logistic Regression : Recall on test Data: {:.3f}\".format(recall_score_test_log))\n",
        "print()\n",
        "\n",
        "precision_score_train_log = metrics.precision_score(y_train,y_train_log)\n",
        "precision_score_test_log = metrics.precision_score(y_test,y_test_log)\n",
        "print(\"Logistic Regression : precision on training Data: {:.3f}\".format(precision_score_train_log))\n",
        "print(\"Logistic Regression : precision on test Data: {:.3f}\".format(precision_score_test_log))"
      ],
      "metadata": {
        "id": "FQenUaVl-zeW"
      },
      "execution_count": null,
      "outputs": []
    },
    {
      "cell_type": "code",
      "source": [
        "\n",
        "#computing the classification report of the model\n",
        "\n",
        "print(metrics.classification_report(y_test, y_test_log))"
      ],
      "metadata": {
        "id": "bQKw2Bec-2s-"
      },
      "execution_count": null,
      "outputs": []
    },
    {
      "cell_type": "code",
      "source": [
        "#storing the results. The below mentioned order of parameter passing is important.\n",
        "\n",
        "storeResults('Logistic Regression',acc_test_log,f1_score_test_log,\n",
        "             recall_score_train_log,precision_score_train_log)"
      ],
      "metadata": {
        "id": "Td6CY8Ca-5w8"
      },
      "execution_count": null,
      "outputs": []
    },
    {
      "cell_type": "markdown",
      "source": [
        "#5.2. K-Nearest Neighbors : Classifier"
      ],
      "metadata": {
        "id": "b6Ex1FZs_AOU"
      }
    },
    {
      "cell_type": "code",
      "source": [
        "# K-Nearest Neighbors Classifier model\n",
        "from sklearn.neighbors import KNeighborsClassifier\n",
        "\n",
        "# instantiate the model\n",
        "knn = KNeighborsClassifier(n_neighbors=1)\n",
        "\n",
        "# fit the model \n",
        "knn.fit(X_train,y_train)"
      ],
      "metadata": {
        "id": "gXcU1AFd_BZF"
      },
      "execution_count": null,
      "outputs": []
    },
    {
      "cell_type": "code",
      "source": [
        "#predicting the target value from the model for the samples\n",
        "y_train_knn = knn.predict(X_train)\n",
        "y_test_knn = knn.predict(X_test)"
      ],
      "metadata": {
        "id": "UvYTyaM__I1N"
      },
      "execution_count": null,
      "outputs": []
    },
    {
      "cell_type": "code",
      "source": [
        "#computing the accuracy,f1_score,Recall,precision of the model performance\n",
        "\n",
        "acc_train_knn = metrics.accuracy_score(y_train,y_train_knn)\n",
        "acc_test_knn = metrics.accuracy_score(y_test,y_test_knn)\n",
        "print(\"K-Nearest Neighbors : Accuracy on training Data: {:.3f}\".format(acc_train_knn))\n",
        "print(\"K-Nearest Neighbors : Accuracy on test Data: {:.3f}\".format(acc_test_knn))\n",
        "print()\n",
        "\n",
        "f1_score_train_knn = metrics.f1_score(y_train,y_train_knn)\n",
        "f1_score_test_knn = metrics.f1_score(y_test,y_test_knn)\n",
        "print(\"K-Nearest Neighbors : f1_score on training Data: {:.3f}\".format(f1_score_train_knn))\n",
        "print(\"K-Nearest Neighbors : f1_score on test Data: {:.3f}\".format(f1_score_test_knn))\n",
        "print()\n",
        "\n",
        "recall_score_train_knn = metrics.recall_score(y_train,y_train_knn)\n",
        "recall_score_test_knn = metrics.recall_score(y_test,y_test_knn)\n",
        "print(\"K-Nearest Neighborsn : Recall on training Data: {:.3f}\".format(recall_score_train_knn))\n",
        "print(\"Logistic Regression : Recall on test Data: {:.3f}\".format(recall_score_test_knn))\n",
        "print()\n",
        "\n",
        "precision_score_train_knn = metrics.precision_score(y_train,y_train_knn)\n",
        "precision_score_test_knn = metrics.precision_score(y_test,y_test_knn)\n",
        "print(\"K-Nearest Neighbors : precision on training Data: {:.3f}\".format(precision_score_train_knn))\n",
        "print(\"K-Nearest Neighbors : precision on test Data: {:.3f}\".format(precision_score_test_knn))"
      ],
      "metadata": {
        "id": "NCL5pm6z_MO0"
      },
      "execution_count": null,
      "outputs": []
    },
    {
      "cell_type": "code",
      "source": [
        "#computing the classification report of the model\n",
        "\n",
        "print(metrics.classification_report(y_test, y_test_knn))"
      ],
      "metadata": {
        "id": "cabsrKKO_XK9"
      },
      "execution_count": null,
      "outputs": []
    },
    {
      "cell_type": "code",
      "source": [
        "training_accuracy = []\n",
        "test_accuracy = []\n",
        "# try max_depth from 1 to 20\n",
        "depth = range(1,20)\n",
        "for n in depth:\n",
        "    knn = KNeighborsClassifier(n_neighbors=n)\n",
        "\n",
        "    knn.fit(X_train, y_train)\n",
        "    # record training set accuracy\n",
        "    training_accuracy.append(knn.score(X_train, y_train))\n",
        "    # record generalization accuracy\n",
        "    test_accuracy.append(knn.score(X_test, y_test))\n",
        "    \n",
        "\n",
        "#plotting the training & testing accuracy for n_estimators from 1 to 20\n",
        "plt.plot(depth, training_accuracy, label=\"training accuracy\")\n",
        "plt.plot(depth, test_accuracy, label=\"test accuracy\")\n",
        "plt.ylabel(\"Accuracy\")  \n",
        "plt.xlabel(\"n_neighbors\")\n",
        "plt.legend();"
      ],
      "metadata": {
        "colab": {
          "base_uri": "https://localhost:8080/",
          "height": 280
        },
        "id": "c0wXomqp_aXU",
        "outputId": "388275db-6efd-4ee5-ccdc-6ac6db40dc03"
      },
      "execution_count": null,
      "outputs": [
        {
          "output_type": "display_data",
          "data": {
            "text/plain": [
              "<Figure size 432x288 with 1 Axes>"
            ],
            "image/png": "[encoded data removed]"
          },
          "metadata": {
            "needs_background": "light"
          }
        }
      ]
    },
    {
      "cell_type": "code",
      "source": [
        "#storing the results. The below mentioned order of parameter passing is important.\n",
        "\n",
        "storeResults('K-Nearest Neighbors',acc_test_knn,f1_score_test_knn,\n",
        "             recall_score_train_knn,precision_score_train_knn)"
      ],
      "metadata": {
        "id": "B8-rVvb0_eTE"
      },
      "execution_count": null,
      "outputs": []
    },
    {
      "cell_type": "markdown",
      "source": [
        "#5.3. Support Vector Machine : Classifier"
      ],
      "metadata": {
        "id": "wp24Hbjz_6Ek"
      }
    },
    {
      "cell_type": "code",
      "source": [
        "# Support Vector Classifier model \n",
        "from sklearn.svm import SVC\n",
        "from sklearn.model_selection import GridSearchCV\n",
        "\n",
        "# defining parameter range\n",
        "param_grid = {'gamma': [0.1],'kernel': ['rbf','linear']}\n",
        "\n",
        "svc = GridSearchCV(SVC(), param_grid)\n",
        "\n",
        "# fitting the model for grid search\n",
        "svc.fit(X_train, y_train)"
      ],
      "metadata": {
        "colab": {
          "base_uri": "https://localhost:8080/"
        },
        "id": "SNPrZBGW_8v9",
        "outputId": "e62eb34d-18b2-4401-f6ea-0b13501d353b"
      },
      "execution_count": null,
      "outputs": [
        {
          "output_type": "execute_result",
          "data": {
            "text/plain": [
              "GridSearchCV(estimator=SVC(),\n",
              "             param_grid={'gamma': [0.1], 'kernel': ['rbf', 'linear']})"
            ]
          },
          "metadata": {},
          "execution_count": 29
        }
      ]
    },
    {
      "cell_type": "code",
      "source": [
        "#predicting the target value from the model for the samples\n",
        "y_train_svc = svc.predict(X_train)\n",
        "y_test_svc = svc.predict(X_test)"
      ],
      "metadata": {
        "id": "vCNvNgliADh9"
      },
      "execution_count": null,
      "outputs": []
    },
    {
      "cell_type": "code",
      "source": [
        "#computing the accuracy, f1_score, Recall, precision of the model performance\n",
        "\n",
        "acc_train_svc = metrics.accuracy_score(y_train,y_train_svc)\n",
        "acc_test_svc = metrics.accuracy_score(y_test,y_test_svc)\n",
        "print(\"Support Vector Machine : Accuracy on training Data: {:.3f}\".format(acc_train_svc))\n",
        "print(\"Support Vector Machine : Accuracy on test Data: {:.3f}\".format(acc_test_svc))\n",
        "print()\n",
        "\n",
        "f1_score_train_svc = metrics.f1_score(y_train,y_train_svc)\n",
        "f1_score_test_svc = metrics.f1_score(y_test,y_test_svc)\n",
        "print(\"Support Vector Machine : f1_score on training Data: {:.3f}\".format(f1_score_train_svc))\n",
        "print(\"Support Vector Machine : f1_score on test Data: {:.3f}\".format(f1_score_test_svc))\n",
        "print()\n",
        "\n",
        "recall_score_train_svc = metrics.recall_score(y_train,y_train_svc)\n",
        "recall_score_test_svc = metrics.recall_score(y_test,y_test_svc)\n",
        "print(\"Support Vector Machine : Recall on training Data: {:.3f}\".format(recall_score_train_svc))\n",
        "print(\"Support Vector Machine : Recall on test Data: {:.3f}\".format(recall_score_test_svc))\n",
        "print()\n",
        "\n",
        "precision_score_train_svc = metrics.precision_score(y_train,y_train_svc)\n",
        "precision_score_test_svc = metrics.precision_score(y_test,y_test_svc)\n",
        "print(\"Support Vector Machine : precision on training Data: {:.3f}\".format(precision_score_train_svc))\n",
        "print(\"Support Vector Machine : precision on test Data: {:.3f}\".format(precision_score_test_svc))"
      ],
      "metadata": {
        "colab": {
          "base_uri": "https://localhost:8080/"
        },
        "id": "8MikkCxIAFxd",
        "outputId": "764931d4-2f40-4b98-de14-669a73dae1a9"
      },
      "execution_count": null,
      "outputs": [
        {
          "output_type": "stream",
          "name": "stdout",
          "text": [
            "Support Vector Machine : Accuracy on training Data: 0.969\n",
            "Support Vector Machine : Accuracy on test Data: 0.964\n",
            "\n",
            "Support Vector Machine : f1_score on training Data: 0.973\n",
            "Support Vector Machine : f1_score on test Data: 0.968\n",
            "\n",
            "Support Vector Machine : Recall on training Data: 0.980\n",
            "Support Vector Machine : Recall on test Data: 0.980\n",
            "\n",
            "Support Vector Machine : precision on training Data: 0.965\n",
            "Support Vector Machine : precision on test Data: 0.957\n"
          ]
        }
      ]
    },
    {
      "cell_type": "code",
      "source": [
        "#computing the classification report of the model\n",
        "\n",
        "print(metrics.classification_report(y_test, y_test_svc))"
      ],
      "metadata": {
        "colab": {
          "base_uri": "https://localhost:8080/"
        },
        "id": "GIPRJtyOAJOV",
        "outputId": "b99494a9-bf0e-46b4-9975-2dd39d9fc566"
      },
      "execution_count": null,
      "outputs": [
        {
          "output_type": "stream",
          "name": "stdout",
          "text": [
            "              precision    recall  f1-score   support\n",
            "\n",
            "          -1       0.97      0.94      0.96       976\n",
            "           1       0.96      0.98      0.97      1235\n",
            "\n",
            "    accuracy                           0.96      2211\n",
            "   macro avg       0.97      0.96      0.96      2211\n",
            "weighted avg       0.96      0.96      0.96      2211\n",
            "\n"
          ]
        }
      ]
    },
    {
      "cell_type": "code",
      "source": [
        "#storing the results. The below mentioned order of parameter passing is important.\n",
        "\n",
        "storeResults('Support Vector Machine',acc_test_svc,f1_score_test_svc,\n",
        "             recall_score_train_svc,precision_score_train_svc)"
      ],
      "metadata": {
        "id": "lslRXaLfALtM"
      },
      "execution_count": null,
      "outputs": []
    },
    {
      "cell_type": "markdown",
      "source": [
        "#5.4. Naive Bayes : Classifier"
      ],
      "metadata": {
        "id": "Jv3Ra_kEAOXc"
      }
    },
    {
      "cell_type": "code",
      "source": [
        "# Naive Bayes Classifier Model\n",
        "from sklearn.naive_bayes import GaussianNB\n",
        "from sklearn.pipeline import Pipeline\n",
        "\n",
        "# instantiate the model\n",
        "nb=  GaussianNB()\n",
        "\n",
        "# fit the model \n",
        "nb.fit(X_train,y_train)"
      ],
      "metadata": {
        "colab": {
          "base_uri": "https://localhost:8080/"
        },
        "id": "FEw_RP00APY1",
        "outputId": "30a2cd4d-7684-473e-e31a-0021df9e795b"
      },
      "execution_count": null,
      "outputs": [
        {
          "output_type": "execute_result",
          "data": {
            "text/plain": [
              "GaussianNB()"
            ]
          },
          "metadata": {},
          "execution_count": 34
        }
      ]
    },
    {
      "cell_type": "code",
      "source": [
        "#predicting the target value from the model for the samples\n",
        "y_train_nb = nb.predict(X_train)\n",
        "y_test_nb = nb.predict(X_test)"
      ],
      "metadata": {
        "id": "Remc1LniARBu"
      },
      "execution_count": null,
      "outputs": []
    },
    {
      "cell_type": "code",
      "source": [
        "#computing the accuracy, f1_score, Recall, precision of the model performance\n",
        "\n",
        "acc_train_nb = metrics.accuracy_score(y_train,y_train_nb)\n",
        "acc_test_nb = metrics.accuracy_score(y_test,y_test_nb)\n",
        "print(\"Naive Bayes Classifier : Accuracy on training Data: {:.3f}\".format(acc_train_nb))\n",
        "print(\"Naive Bayes Classifier : Accuracy on test Data: {:.3f}\".format(acc_test_nb))\n",
        "print()\n",
        "\n",
        "f1_score_train_nb = metrics.f1_score(y_train,y_train_nb)\n",
        "f1_score_test_nb = metrics.f1_score(y_test,y_test_nb)\n",
        "print(\"Naive Bayes Classifier : f1_score on training Data: {:.3f}\".format(f1_score_train_nb))\n",
        "print(\"Naive Bayes Classifier : f1_score on test Data: {:.3f}\".format(f1_score_test_nb))\n",
        "print()\n",
        "\n",
        "recall_score_train_nb = metrics.recall_score(y_train,y_train_nb)\n",
        "recall_score_test_nb = metrics.recall_score(y_test,y_test_nb)\n",
        "print(\"Naive Bayes Classifier : Recall on training Data: {:.3f}\".format(recall_score_train_nb))\n",
        "print(\"Naive Bayes Classifier : Recall on test Data: {:.3f}\".format(recall_score_test_nb))\n",
        "print()\n",
        "\n",
        "precision_score_train_nb = metrics.precision_score(y_train,y_train_nb)\n",
        "precision_score_test_nb = metrics.precision_score(y_test,y_test_nb)\n",
        "print(\"Naive Bayes Classifier : precision on training Data: {:.3f}\".format(precision_score_train_nb))\n",
        "print(\"Naive Bayes Classifier : precision on test Data: {:.3f}\".format(precision_score_test_nb))"
      ],
      "metadata": {
        "colab": {
          "base_uri": "https://localhost:8080/"
        },
        "id": "5dk2FactAVdN",
        "outputId": "06e96ea8-57f4-45ce-a998-8af716c2da52"
      },
      "execution_count": null,
      "outputs": [
        {
          "output_type": "stream",
          "name": "stdout",
          "text": [
            "Naive Bayes Classifier : Accuracy on training Data: 0.605\n",
            "Naive Bayes Classifier : Accuracy on test Data: 0.605\n",
            "\n",
            "Naive Bayes Classifier : f1_score on training Data: 0.451\n",
            "Naive Bayes Classifier : f1_score on test Data: 0.454\n",
            "\n",
            "Naive Bayes Classifier : Recall on training Data: 0.292\n",
            "Naive Bayes Classifier : Recall on test Data: 0.294\n",
            "\n",
            "Naive Bayes Classifier : precision on training Data: 0.997\n",
            "Naive Bayes Classifier : precision on test Data: 0.995\n"
          ]
        }
      ]
    },
    {
      "cell_type": "code",
      "source": [
        "#computing the classification report of the model\n",
        "\n",
        "print(metrics.classification_report(y_test, y_test_svc))"
      ],
      "metadata": {
        "colab": {
          "base_uri": "https://localhost:8080/"
        },
        "id": "6xwQRgiKAYBd",
        "outputId": "c52ee3b8-90bd-494c-e0ce-8bfe44bfa4fd"
      },
      "execution_count": null,
      "outputs": [
        {
          "output_type": "stream",
          "name": "stdout",
          "text": [
            "              precision    recall  f1-score   support\n",
            "\n",
            "          -1       0.97      0.94      0.96       976\n",
            "           1       0.96      0.98      0.97      1235\n",
            "\n",
            "    accuracy                           0.96      2211\n",
            "   macro avg       0.97      0.96      0.96      2211\n",
            "weighted avg       0.96      0.96      0.96      2211\n",
            "\n"
          ]
        }
      ]
    },
    {
      "cell_type": "code",
      "source": [
        "#storing the results. The below mentioned order of parameter passing is important.\n",
        "\n",
        "storeResults('Naive Bayes Classifier',acc_test_nb,f1_score_test_nb,\n",
        "             recall_score_train_nb,precision_score_train_nb)"
      ],
      "metadata": {
        "id": "69Rfu22GAatW"
      },
      "execution_count": null,
      "outputs": []
    },
    {
      "cell_type": "markdown",
      "source": [
        "#5.5. Decision Trees : Classifie"
      ],
      "metadata": {
        "id": "MrR8-6GYAm4U"
      }
    },
    {
      "cell_type": "code",
      "source": [
        "# Decision Tree Classifier model \n",
        "from sklearn.tree import DecisionTreeClassifier\n",
        "\n",
        "# instantiate the model \n",
        "tree = DecisionTreeClassifier(max_depth=30)\n",
        "\n",
        "# fit the model \n",
        "tree.fit(X_train, y_train)"
      ],
      "metadata": {
        "colab": {
          "base_uri": "https://localhost:8080/"
        },
        "id": "_zzf0QWWAo-8",
        "outputId": "7f68d8db-afd1-4c47-850b-b6d9eaeca4d4"
      },
      "execution_count": null,
      "outputs": [
        {
          "output_type": "execute_result",
          "data": {
            "text/plain": [
              "DecisionTreeClassifier(max_depth=30)"
            ]
          },
          "metadata": {},
          "execution_count": 39
        }
      ]
    },
    {
      "cell_type": "code",
      "source": [
        "#predicting the target value from the model for the samples\n",
        "\n",
        "y_train_tree = tree.predict(X_train)\n",
        "y_test_tree = tree.predict(X_test)"
      ],
      "metadata": {
        "id": "RCWlq9iGAsP7"
      },
      "execution_count": null,
      "outputs": []
    },
    {
      "cell_type": "code",
      "source": [
        "#computing the accuracy, f1_score, Recall, precision of the model performance\n",
        "\n",
        "acc_train_tree = metrics.accuracy_score(y_train,y_train_tree)\n",
        "acc_test_tree = metrics.accuracy_score(y_test,y_test_tree)\n",
        "print(\"Decision Tree : Accuracy on training Data: {:.3f}\".format(acc_train_tree))\n",
        "print(\"Decision Tree : Accuracy on test Data: {:.3f}\".format(acc_test_tree))\n",
        "print()\n",
        "\n",
        "f1_score_train_tree = metrics.f1_score(y_train,y_train_tree)\n",
        "f1_score_test_tree = metrics.f1_score(y_test,y_test_tree)\n",
        "print(\"Decision Tree : f1_score on training Data: {:.3f}\".format(f1_score_train_tree))\n",
        "print(\"Decision Tree : f1_score on test Data: {:.3f}\".format(f1_score_test_tree))\n",
        "print()\n",
        "\n",
        "recall_score_train_tree = metrics.recall_score(y_train,y_train_tree)\n",
        "recall_score_test_tree = metrics.recall_score(y_test,y_test_tree)\n",
        "print(\"Decision Tree : Recall on training Data: {:.3f}\".format(recall_score_train_tree))\n",
        "print(\"Decision Tree : Recall on test Data: {:.3f}\".format(recall_score_test_tree))\n",
        "print()\n",
        "\n",
        "precision_score_train_tree = metrics.precision_score(y_train,y_train_tree)\n",
        "precision_score_test_tree = metrics.precision_score(y_test,y_test_tree)\n",
        "print(\"Decision Tree : precision on training Data: {:.3f}\".format(precision_score_train_tree))\n",
        "print(\"Decision Tree : precision on test Data: {:.3f}\".format(precision_score_test_tree))"
      ],
      "metadata": {
        "colab": {
          "base_uri": "https://localhost:8080/"
        },
        "id": "fEq7CNLXAt9k",
        "outputId": "ab9c97ab-6525-4808-f092-79edb6051c80"
      },
      "execution_count": null,
      "outputs": [
        {
          "output_type": "stream",
          "name": "stdout",
          "text": [
            "Decision Tree : Accuracy on training Data: 0.991\n",
            "Decision Tree : Accuracy on test Data: 0.959\n",
            "\n",
            "Decision Tree : f1_score on training Data: 0.992\n",
            "Decision Tree : f1_score on test Data: 0.963\n",
            "\n",
            "Decision Tree : Recall on training Data: 0.991\n",
            "Decision Tree : Recall on test Data: 0.960\n",
            "\n",
            "Decision Tree : precision on training Data: 0.993\n",
            "Decision Tree : precision on test Data: 0.967\n"
          ]
        }
      ]
    },
    {
      "cell_type": "code",
      "source": [
        "#computing the classification report of the model\n",
        "\n",
        "print(metrics.classification_report(y_test, y_test_tree))"
      ],
      "metadata": {
        "colab": {
          "base_uri": "https://localhost:8080/"
        },
        "id": "ucc4fygMAxN0",
        "outputId": "3be179ad-3b65-4938-818a-81f043956ec4"
      },
      "execution_count": null,
      "outputs": [
        {
          "output_type": "stream",
          "name": "stdout",
          "text": [
            "              precision    recall  f1-score   support\n",
            "\n",
            "          -1       0.95      0.96      0.95       976\n",
            "           1       0.97      0.96      0.96      1235\n",
            "\n",
            "    accuracy                           0.96      2211\n",
            "   macro avg       0.96      0.96      0.96      2211\n",
            "weighted avg       0.96      0.96      0.96      2211\n",
            "\n"
          ]
        }
      ]
    },
    {
      "cell_type": "code",
      "source": [
        "training_accuracy = []\n",
        "test_accuracy = []\n",
        "# try max_depth from 1 to 30\n",
        "depth = range(1,30)\n",
        "for n in depth:\n",
        "    tree_test = DecisionTreeClassifier(max_depth=n)\n",
        "\n",
        "    tree_test.fit(X_train, y_train)\n",
        "    # record training set accuracy\n",
        "    training_accuracy.append(tree_test.score(X_train, y_train))\n",
        "    # record generalization accuracy\n",
        "    test_accuracy.append(tree_test.score(X_test, y_test))\n",
        "    \n",
        "\n",
        "#plotting the training & testing accuracy for max_depth from 1 to 30\n",
        "plt.plot(depth, training_accuracy, label=\"training accuracy\")\n",
        "plt.plot(depth, test_accuracy, label=\"test accuracy\")\n",
        "plt.ylabel(\"Accuracy\")  \n",
        "plt.xlabel(\"max_depth\")\n",
        "plt.legend();"
      ],
      "metadata": {
        "colab": {
          "base_uri": "https://localhost:8080/",
          "height": 280
        },
        "id": "N5sdDioaAzEs",
        "outputId": "39f28dd0-30ac-4216-a7d1-b720e5b641ef"
      },
      "execution_count": null,
      "outputs": [
        {
          "output_type": "display_data",
          "data": {
            "text/plain": [
              "<Figure size 432x288 with 1 Axes>"
            ],
            "image/png": "[encoded data removed]"
          },
          "metadata": {
            "needs_background": "light"
          }
        }
      ]
    },
    {
      "cell_type": "code",
      "source": [
        "#storing the results. The below mentioned order of parameter passing is important.\n",
        "\n",
        "storeResults('Decision Tree',acc_test_tree,f1_score_test_tree,\n",
        "             recall_score_train_tree,precision_score_train_tree)"
      ],
      "metadata": {
        "id": "R-oCOcL_A2B1"
      },
      "execution_count": null,
      "outputs": []
    },
    {
      "cell_type": "markdown",
      "source": [
        "#5.6. Random Forest : Classifier"
      ],
      "metadata": {
        "id": "2O08hA9yA4j1"
      }
    },
    {
      "cell_type": "code",
      "source": [
        "# Random Forest Classifier Model\n",
        "from sklearn.ensemble import RandomForestClassifier\n",
        "\n",
        "# instantiate the model\n",
        "forest = RandomForestClassifier(n_estimators=10)\n",
        "\n",
        "# fit the model \n",
        "forest.fit(X_train,y_train)"
      ],
      "metadata": {
        "colab": {
          "base_uri": "https://localhost:8080/"
        },
        "id": "4s-ZnW2zA5wU",
        "outputId": "917f5d9f-b31a-430b-fc15-83879f1b5888"
      },
      "execution_count": null,
      "outputs": [
        {
          "output_type": "execute_result",
          "data": {
            "text/plain": [
              "RandomForestClassifier(n_estimators=10)"
            ]
          },
          "metadata": {},
          "execution_count": 45
        }
      ]
    },
    {
      "cell_type": "code",
      "source": [
        "#predicting the target value from the model for the samples\n",
        "y_train_forest = forest.predict(X_train)\n",
        "y_test_forest = forest.predict(X_test)"
      ],
      "metadata": {
        "id": "DAXbitUOA7Me"
      },
      "execution_count": null,
      "outputs": []
    },
    {
      "cell_type": "code",
      "source": [
        "#computing the accuracy, f1_score, Recall, precision of the model performance\n",
        "\n",
        "acc_train_forest = metrics.accuracy_score(y_train,y_train_forest)\n",
        "acc_test_forest = metrics.accuracy_score(y_test,y_test_forest)\n",
        "print(\"Random Forest : Accuracy on training Data: {:.3f}\".format(acc_train_forest))\n",
        "print(\"Random Forest : Accuracy on test Data: {:.3f}\".format(acc_test_forest))\n",
        "print()\n",
        "\n",
        "f1_score_train_forest = metrics.f1_score(y_train,y_train_forest)\n",
        "f1_score_test_forest = metrics.f1_score(y_test,y_test_forest)\n",
        "print(\"Random Forest : f1_score on training Data: {:.3f}\".format(f1_score_train_forest))\n",
        "print(\"Random Forest : f1_score on test Data: {:.3f}\".format(f1_score_test_forest))\n",
        "print()\n",
        "\n",
        "recall_score_train_forest = metrics.recall_score(y_train,y_train_forest)\n",
        "recall_score_test_forest = metrics.recall_score(y_test,y_test_forest)\n",
        "print(\"Random Forest : Recall on training Data: {:.3f}\".format(recall_score_train_forest))\n",
        "print(\"Random Forest : Recall on test Data: {:.3f}\".format(recall_score_test_forest))\n",
        "print()\n",
        "\n",
        "precision_score_train_forest = metrics.precision_score(y_train,y_train_forest)\n",
        "precision_score_test_forest = metrics.precision_score(y_test,y_test_tree)\n",
        "print(\"Random Forest : precision on training Data: {:.3f}\".format(precision_score_train_forest))\n",
        "print(\"Random Forest : precision on test Data: {:.3f}\".format(precision_score_test_forest))"
      ],
      "metadata": {
        "colab": {
          "base_uri": "https://localhost:8080/"
        },
        "id": "n_v-lILkA9RM",
        "outputId": "d5966f0e-d81c-46ad-b584-9843df14c165"
      },
      "execution_count": null,
      "outputs": [
        {
          "output_type": "stream",
          "name": "stdout",
          "text": [
            "Random Forest : Accuracy on training Data: 0.990\n",
            "Random Forest : Accuracy on test Data: 0.967\n",
            "\n",
            "Random Forest : f1_score on training Data: 0.991\n",
            "Random Forest : f1_score on test Data: 0.970\n",
            "\n",
            "Random Forest : Recall on training Data: 0.994\n",
            "Random Forest : Recall on test Data: 0.974\n",
            "\n",
            "Random Forest : precision on training Data: 0.989\n",
            "Random Forest : precision on test Data: 0.967\n"
          ]
        }
      ]
    },
    {
      "cell_type": "code",
      "source": [
        "\n",
        "#computing the classification report of the model\n",
        "\n",
        "print(metrics.classification_report(y_test, y_test_forest))"
      ],
      "metadata": {
        "colab": {
          "base_uri": "https://localhost:8080/"
        },
        "id": "5lMu6XMOBAk8",
        "outputId": "2fa021e2-947d-40ed-f801-a8671a0dfb98"
      },
      "execution_count": null,
      "outputs": [
        {
          "output_type": "stream",
          "name": "stdout",
          "text": [
            "              precision    recall  f1-score   support\n",
            "\n",
            "          -1       0.97      0.96      0.96       976\n",
            "           1       0.97      0.97      0.97      1235\n",
            "\n",
            "    accuracy                           0.97      2211\n",
            "   macro avg       0.97      0.97      0.97      2211\n",
            "weighted avg       0.97      0.97      0.97      2211\n",
            "\n"
          ]
        }
      ]
    },
    {
      "cell_type": "code",
      "source": [
        "training_accuracy = []\n",
        "test_accuracy = []\n",
        "# try max_depth from 1 to 20\n",
        "depth = range(1,20)\n",
        "for n in depth:\n",
        "    forest_test =  RandomForestClassifier(n_estimators=n)\n",
        "\n",
        "    forest_test.fit(X_train, y_train)\n",
        "    # record training set accuracy\n",
        "    training_accuracy.append(forest_test.score(X_train, y_train))\n",
        "    # record generalization accuracy\n",
        "    test_accuracy.append(forest_test.score(X_test, y_test))\n",
        "    \n",
        "\n",
        "#plotting the training & testing accuracy for n_estimators from 1 to 20\n",
        "plt.figure(figsize=None)\n",
        "plt.plot(depth, training_accuracy, label=\"training accuracy\")\n",
        "plt.plot(depth, test_accuracy, label=\"test accuracy\")\n",
        "plt.ylabel(\"Accuracy\")  \n",
        "plt.xlabel(\"n_estimators\")\n",
        "plt.legend();"
      ],
      "metadata": {
        "colab": {
          "base_uri": "https://localhost:8080/",
          "height": 280
        },
        "id": "ZVKJcrBcBCdt",
        "outputId": "9fdaae07-5a48-47b4-9635-b2a2aabf157a"
      },
      "execution_count": null,
      "outputs": [
        {
          "output_type": "display_data",
          "data": {
            "text/plain": [
              "<Figure size 432x288 with 1 Axes>"
            ],
            "image/png": "[encoded data removed]"
          },
          "metadata": {
            "needs_background": "light"
          }
        }
      ]
    },
    {
      "cell_type": "code",
      "source": [
        "#storing the results. The below mentioned order of parameter passing is important.\n",
        "\n",
        "storeResults('Random Forest',acc_test_forest,f1_score_test_forest,\n",
        "             recall_score_train_forest,precision_score_train_forest)"
      ],
      "metadata": {
        "id": "O_cumEKiBERd"
      },
      "execution_count": null,
      "outputs": []
    },
    {
      "cell_type": "markdown",
      "source": [
        "#5.7.Gradient Boosting Classifier"
      ],
      "metadata": {
        "id": "HivvqBbPBIac"
      }
    },
    {
      "cell_type": "code",
      "source": [
        "\n",
        "# Gradient Boosting Classifier Model\n",
        "from sklearn.ensemble import GradientBoostingClassifier\n",
        "\n",
        "# instantiate the model\n",
        "gbc = GradientBoostingClassifier(max_depth=4,learning_rate=0.7)\n",
        "\n",
        "# fit the model \n",
        "gbc.fit(X_train,y_train)"
      ],
      "metadata": {
        "colab": {
          "base_uri": "https://localhost:8080/"
        },
        "id": "FuQlCyL9BKaU",
        "outputId": "9315788c-b58f-4592-be5a-38b9e8a75f0f"
      },
      "execution_count": null,
      "outputs": [
        {
          "output_type": "execute_result",
          "data": {
            "text/plain": [
              "GradientBoostingClassifier(learning_rate=0.7, max_depth=4)"
            ]
          },
          "metadata": {},
          "execution_count": 51
        }
      ]
    },
    {
      "cell_type": "code",
      "source": [
        "#predicting the target value from the model for the samples\n",
        "y_train_gbc = gbc.predict(X_train)\n",
        "y_test_gbc = gbc.predict(X_test)"
      ],
      "metadata": {
        "id": "DnaUzmTPBPCc"
      },
      "execution_count": null,
      "outputs": []
    },
    {
      "cell_type": "code",
      "source": [
        "#computing the accuracy, f1_score, Recall, precision of the model performance\n",
        "\n",
        "acc_train_gbc = metrics.accuracy_score(y_train,y_train_gbc)\n",
        "acc_test_gbc = metrics.accuracy_score(y_test,y_test_gbc)\n",
        "print(\"Gradient Boosting Classifier : Accuracy on training Data: {:.3f}\".format(acc_train_gbc))\n",
        "print(\"Gradient Boosting Classifier : Accuracy on test Data: {:.3f}\".format(acc_test_gbc))\n",
        "print()\n",
        "\n",
        "f1_score_train_gbc = metrics.f1_score(y_train,y_train_gbc)\n",
        "f1_score_test_gbc = metrics.f1_score(y_test,y_test_gbc)\n",
        "print(\"Gradient Boosting Classifier : f1_score on training Data: {:.3f}\".format(f1_score_train_gbc))\n",
        "print(\"Gradient Boosting Classifier : f1_score on test Data: {:.3f}\".format(f1_score_test_gbc))\n",
        "print()\n",
        "\n",
        "recall_score_train_gbc = metrics.recall_score(y_train,y_train_gbc)\n",
        "recall_score_test_gbc =  metrics.recall_score(y_test,y_test_gbc)\n",
        "print(\"Gradient Boosting Classifier : Recall on training Data: {:.3f}\".format(recall_score_train_gbc))\n",
        "print(\"Gradient Boosting Classifier : Recall on test Data: {:.3f}\".format(recall_score_test_gbc))\n",
        "print()\n",
        "\n",
        "precision_score_train_gbc = metrics.precision_score(y_train,y_train_gbc)\n",
        "precision_score_test_gbc = metrics.precision_score(y_test,y_test_gbc)\n",
        "print(\"Gradient Boosting Classifier : precision on training Data: {:.3f}\".format(precision_score_train_gbc))\n",
        "print(\"Gradient Boosting Classifier : precision on test Data: {:.3f}\".format(precision_score_test_gbc))"
      ],
      "metadata": {
        "colab": {
          "base_uri": "https://localhost:8080/"
        },
        "id": "-_ZC9mNBBRG0",
        "outputId": "aad93c6b-6dd3-4901-967a-e9f2f637bb86"
      },
      "execution_count": null,
      "outputs": [
        {
          "output_type": "stream",
          "name": "stdout",
          "text": [
            "Gradient Boosting Classifier : Accuracy on training Data: 0.989\n",
            "Gradient Boosting Classifier : Accuracy on test Data: 0.974\n",
            "\n",
            "Gradient Boosting Classifier : f1_score on training Data: 0.990\n",
            "Gradient Boosting Classifier : f1_score on test Data: 0.977\n",
            "\n",
            "Gradient Boosting Classifier : Recall on training Data: 0.994\n",
            "Gradient Boosting Classifier : Recall on test Data: 0.989\n",
            "\n",
            "Gradient Boosting Classifier : precision on training Data: 0.986\n",
            "Gradient Boosting Classifier : precision on test Data: 0.966\n"
          ]
        }
      ]
    },
    {
      "cell_type": "code",
      "source": [
        "#computing the classification report of the model\n",
        "\n",
        "print(metrics.classification_report(y_test, y_test_gbc))"
      ],
      "metadata": {
        "colab": {
          "base_uri": "https://localhost:8080/"
        },
        "id": "8xaQAqHFBTDF",
        "outputId": "c3181ed6-dbfe-4b7b-ca73-a638b9135c22"
      },
      "execution_count": null,
      "outputs": [
        {
          "output_type": "stream",
          "name": "stdout",
          "text": [
            "              precision    recall  f1-score   support\n",
            "\n",
            "          -1       0.99      0.96      0.97       976\n",
            "           1       0.97      0.99      0.98      1235\n",
            "\n",
            "    accuracy                           0.97      2211\n",
            "   macro avg       0.98      0.97      0.97      2211\n",
            "weighted avg       0.97      0.97      0.97      2211\n",
            "\n"
          ]
        }
      ]
    },
    {
      "cell_type": "code",
      "source": [
        "training_accuracy = []\n",
        "test_accuracy = []\n",
        "# try learning_rate from 0.1 to 0.9\n",
        "depth = range(1,10)\n",
        "for n in depth:\n",
        "    forest_test =  GradientBoostingClassifier(learning_rate = n*0.1)\n",
        "\n",
        "    forest_test.fit(X_train, y_train)\n",
        "    # record training set accuracy\n",
        "    training_accuracy.append(forest_test.score(X_train, y_train))\n",
        "    # record generalization accuracy\n",
        "    test_accuracy.append(forest_test.score(X_test, y_test))\n",
        "    \n",
        "\n",
        "#plotting the training & testing accuracy for n_estimators from 1 to 50\n",
        "plt.figure(figsize=None)\n",
        "plt.plot(depth, training_accuracy, label=\"training accuracy\")\n",
        "plt.plot(depth, test_accuracy, label=\"test accuracy\")\n",
        "plt.ylabel(\"Accuracy\")  \n",
        "plt.xlabel(\"learning_rate\")\n",
        "plt.legend();"
      ],
      "metadata": {
        "colab": {
          "base_uri": "https://localhost:8080/",
          "height": 280
        },
        "id": "B2xsXpYJBU6V",
        "outputId": "59a60a9d-9479-4265-d834-de288c151ff8"
      },
      "execution_count": null,
      "outputs": [
        {
          "output_type": "display_data",
          "data": {
            "text/plain": [
              "<Figure size 432x288 with 1 Axes>"
            ],
            "image/png": "[encoded data removed]"
          },
          "metadata": {
            "needs_background": "light"
          }
        }
      ]
    },
    {
      "cell_type": "code",
      "source": [
        "training_accuracy = []\n",
        "test_accuracy = []\n",
        "# try learning_rate from 0.1 to 0.9\n",
        "depth = range(1,10,1)\n",
        "for n in depth:\n",
        "    forest_test =  GradientBoostingClassifier(max_depth=n,learning_rate = 0.7)\n",
        "\n",
        "    forest_test.fit(X_train, y_train)\n",
        "    # record training set accuracy\n",
        "    training_accuracy.append(forest_test.score(X_train, y_train))\n",
        "    # record generalization accuracy\n",
        "    test_accuracy.append(forest_test.score(X_test, y_test))\n",
        "    \n",
        "\n",
        "#plotting the training & testing accuracy for n_estimators from 1 to 50\n",
        "plt.figure(figsize=None)\n",
        "plt.plot(depth, training_accuracy, label=\"training accuracy\")\n",
        "plt.plot(depth, test_accuracy, label=\"test accuracy\")\n",
        "plt.ylabel(\"Accuracy\")  \n",
        "plt.xlabel(\"max_depth\")\n",
        "plt.legend();"
      ],
      "metadata": {
        "colab": {
          "base_uri": "https://localhost:8080/",
          "height": 280
        },
        "id": "tjIj5ZSyBZJN",
        "outputId": "dc5e63e4-7b98-448a-be4d-89a075b17913"
      },
      "execution_count": null,
      "outputs": [
        {
          "output_type": "display_data",
          "data": {
            "text/plain": [
              "<Figure size 432x288 with 1 Axes>"
            ],
            "image/png": "[encoded data removed]"
          },
          "metadata": {
            "needs_background": "light"
          }
        }
      ]
    },
    {
      "cell_type": "code",
      "source": [
        "\n",
        "#storing the results. The below mentioned order of parameter passing is important.\n",
        "\n",
        "storeResults('Gradient Boosting Classifier',acc_test_gbc,f1_score_test_gbc,\n",
        "             recall_score_train_gbc,precision_score_train_gbc)\n"
      ],
      "metadata": {
        "id": "p8s25ymNBc70"
      },
      "execution_count": null,
      "outputs": []
    },
    {
      "cell_type": "markdown",
      "source": [
        "#5.8. XGBoost Classifier"
      ],
      "metadata": {
        "id": "Md0zv1gdCCrF"
      }
    },
    {
      "cell_type": "code",
      "source": [
        "#  XGBoost Classifier Model\n",
        "from xgboost import XGBClassifier\n",
        "\n",
        "# instantiate the model\n",
        "xgb = XGBClassifier()\n",
        "\n",
        "# fit the model \n",
        "xgb.fit(X_train,y_train)"
      ],
      "metadata": {
        "colab": {
          "base_uri": "https://localhost:8080/"
        },
        "id": "9XbAhae-CFEU",
        "outputId": "7bd5ec02-6da1-4f7d-cdc9-3a7b516fa28f"
      },
      "execution_count": null,
      "outputs": [
        {
          "output_type": "execute_result",
          "data": {
            "text/plain": [
              "XGBClassifier()"
            ]
          },
          "metadata": {},
          "execution_count": 58
        }
      ]
    },
    {
      "cell_type": "code",
      "source": [
        "#predicting the target value from the model for the samples\n",
        "y_train_xgb = xgb.predict(X_train)\n",
        "y_test_xgb = xgb.predict(X_test)"
      ],
      "metadata": {
        "id": "AC3vgt8iCHxm"
      },
      "execution_count": null,
      "outputs": []
    },
    {
      "cell_type": "code",
      "source": [
        "#computing the accuracy, f1_score, Recall, precision of the model performance\n",
        "\n",
        "acc_train_xgb = metrics.accuracy_score(y_train,y_train_xgb)\n",
        "acc_test_xgb = metrics.accuracy_score(y_test,y_test_xgb)\n",
        "print(\"XGBoost Classifier : Accuracy on training Data: {:.3f}\".format(acc_train_xgb))\n",
        "print(\"XGBoost Classifier : Accuracy on test Data: {:.3f}\".format(acc_test_xgb))\n",
        "print()\n",
        "\n",
        "f1_score_train_xgb = metrics.f1_score(y_train,y_train_xgb)\n",
        "f1_score_test_xgb = metrics.f1_score(y_test,y_test_xgb)\n",
        "print(\"XGBoost Classifier : f1_score on training Data: {:.3f}\".format(f1_score_train_xgb))\n",
        "print(\"XGBoost Classifier : f1_score on test Data: {:.3f}\".format(f1_score_test_xgb))\n",
        "print()\n",
        "\n",
        "recall_score_train_xgb = metrics.recall_score(y_train,y_train_xgb)\n",
        "recall_score_test_xgb = metrics.recall_score(y_test,y_test_xgb)\n",
        "print(\"XGBoost Classifier : Recall on training Data: {:.3f}\".format(recall_score_train_xgb))\n",
        "print(\"XGBoost Classifier : Recall on test Data: {:.3f}\".format(recall_score_train_xgb))\n",
        "print()\n",
        "\n",
        "precision_score_train_xgb = metrics.precision_score(y_train,y_train_xgb)\n",
        "precision_score_test_xgb = metrics.precision_score(y_test,y_test_xgb)\n",
        "print(\"XGBoost Classifier : precision on training Data: {:.3f}\".format(precision_score_train_xgb))\n",
        "print(\"XGBoost Classifier : precision on test Data: {:.3f}\".format(precision_score_train_xgb))"
      ],
      "metadata": {
        "colab": {
          "base_uri": "https://localhost:8080/"
        },
        "id": "W8eeEpZmCJ6V",
        "outputId": "d1df7653-ad30-45a4-a3bf-a967ca39a661"
      },
      "execution_count": null,
      "outputs": [
        {
          "output_type": "stream",
          "name": "stdout",
          "text": [
            "XGBoost Classifier : Accuracy on training Data: 0.952\n",
            "XGBoost Classifier : Accuracy on test Data: 0.952\n",
            "\n",
            "XGBoost Classifier : f1_score on training Data: 0.957\n",
            "XGBoost Classifier : f1_score on test Data: 0.958\n",
            "\n",
            "XGBoost Classifier : Recall on training Data: 0.968\n",
            "XGBoost Classifier : Recall on test Data: 0.968\n",
            "\n",
            "XGBoost Classifier : precision on training Data: 0.947\n",
            "XGBoost Classifier : precision on test Data: 0.947\n"
          ]
        }
      ]
    },
    {
      "cell_type": "code",
      "source": [
        "#storing the results. The below mentioned order of parameter passing is important.\n",
        "\n",
        "storeResults('XGBoost Classifier',acc_test_xgb,f1_score_test_xgb,recall_score_train_xgb,precision_score_train_xgb)"
      ],
      "metadata": {
        "id": "TWJMzCspCMac"
      },
      "execution_count": null,
      "outputs": []
    },
    {
      "cell_type": "markdown",
      "source": [
        "#5.10. Multi-layer Perceptron classifier"
      ],
      "metadata": {
        "id": "Cwl1sorICTqL"
      }
    },
    {
      "cell_type": "code",
      "source": [
        "# Multi-layer Perceptron Classifier Model\n",
        "from sklearn.neural_network import MLPClassifier\n",
        "\n",
        "# instantiate the model\n",
        "mlp = MLPClassifier()\n",
        "#mlp = GridSearchCV(mlpc, parameter_space)\n",
        "\n",
        "# fit the model \n",
        "mlp.fit(X_train,y_train)"
      ],
      "metadata": {
        "colab": {
          "base_uri": "https://localhost:8080/"
        },
        "id": "TEnsmrRQCU1c",
        "outputId": "580097ac-12e2-4826-86f0-8dce081290c6"
      },
      "execution_count": null,
      "outputs": [
        {
          "output_type": "execute_result",
          "data": {
            "text/plain": [
              "MLPClassifier()"
            ]
          },
          "metadata": {},
          "execution_count": 62
        }
      ]
    },
    {
      "cell_type": "code",
      "source": [
        "#predicting the target value from the model for the samples\n",
        "y_train_mlp = mlp.predict(X_train)\n",
        "y_test_mlp = mlp.predict(X_test)"
      ],
      "metadata": {
        "id": "n1kYYheKCY5U"
      },
      "execution_count": null,
      "outputs": []
    },
    {
      "cell_type": "code",
      "source": [
        "#computing the accuracy, f1_score, Recall, precision of the model performance\n",
        "\n",
        "acc_train_mlp  = metrics.accuracy_score(y_train,y_train_mlp)\n",
        "acc_test_mlp = metrics.accuracy_score(y_test,y_test_mlp)\n",
        "print(\"Multi-layer Perceptron : Accuracy on training Data: {:.3f}\".format(acc_train_mlp))\n",
        "print(\"Multi-layer Perceptron : Accuracy on test Data: {:.3f}\".format(acc_test_mlp))\n",
        "print()\n",
        "\n",
        "f1_score_train_mlp = metrics.f1_score(y_train,y_train_mlp)\n",
        "f1_score_test_mlp = metrics.f1_score(y_test,y_test_mlp)\n",
        "print(\"Multi-layer Perceptron : f1_score on training Data: {:.3f}\".format(f1_score_train_mlp))\n",
        "print(\"Multi-layer Perceptron : f1_score on test Data: {:.3f}\".format(f1_score_train_mlp))\n",
        "print()\n",
        "\n",
        "recall_score_train_mlp = metrics.recall_score(y_train,y_train_mlp)\n",
        "recall_score_test_mlp = metrics.recall_score(y_test,y_test_mlp)\n",
        "print(\"Multi-layer Perceptron : Recall on training Data: {:.3f}\".format(recall_score_train_mlp))\n",
        "print(\"Multi-layer Perceptron : Recall on test Data: {:.3f}\".format(recall_score_test_mlp))\n",
        "print()\n",
        "\n",
        "precision_score_train_mlp = metrics.precision_score(y_train,y_train_mlp)\n",
        "precision_score_test_mlp = metrics.precision_score(y_test,y_test_mlp)\n",
        "print(\"Multi-layer Perceptron : precision on training Data: {:.3f}\".format(precision_score_train_mlp))\n",
        "print(\"Multi-layer Perceptron : precision on test Data: {:.3f}\".format(precision_score_test_mlp))"
      ],
      "metadata": {
        "colab": {
          "base_uri": "https://localhost:8080/"
        },
        "id": "ACM4WZlmCa9K",
        "outputId": "643d0fcf-c024-4e1a-d7fc-dd84f852449a"
      },
      "execution_count": null,
      "outputs": [
        {
          "output_type": "stream",
          "name": "stdout",
          "text": [
            "Multi-layer Perceptron : Accuracy on training Data: 0.986\n",
            "Multi-layer Perceptron : Accuracy on test Data: 0.972\n",
            "\n",
            "Multi-layer Perceptron : f1_score on training Data: 0.987\n",
            "Multi-layer Perceptron : f1_score on test Data: 0.987\n",
            "\n",
            "Multi-layer Perceptron : Recall on training Data: 0.992\n",
            "Multi-layer Perceptron : Recall on test Data: 0.985\n",
            "\n",
            "Multi-layer Perceptron : precision on training Data: 0.983\n",
            "Multi-layer Perceptron : precision on test Data: 0.964\n"
          ]
        }
      ]
    },
    {
      "cell_type": "code",
      "source": [
        "#storing the results. The below mentioned order of parameter passing is important.\n",
        "\n",
        "storeResults('Multi-layer Perceptron',acc_test_mlp,f1_score_test_mlp,\n",
        "             recall_score_train_mlp,precision_score_train_mlp)"
      ],
      "metadata": {
        "id": "NjriHq3PChfc"
      },
      "execution_count": null,
      "outputs": []
    },
    {
      "cell_type": "markdown",
      "source": [
        "#6. Comparision of Models"
      ],
      "metadata": {
        "id": "7cWjRg-1Cngd"
      }
    },
    {
      "cell_type": "code",
      "source": [
        "#creating dataframe\n",
        "result = pd.DataFrame({ 'ML Model' : ML_Model,\n",
        "                        'Accuracy' : accuracy,\n",
        "                        'f1_score' : f1_score,\n",
        "                        'Recall'   : recall,\n",
        "                        'Precision': precision,\n",
        "                      })"
      ],
      "metadata": {
        "id": "LXMu71ylCobO"
      },
      "execution_count": null,
      "outputs": []
    },
    {
      "cell_type": "code",
      "source": [
        "# dispalying total result\n",
        "result"
      ],
      "metadata": {
        "colab": {
          "base_uri": "https://localhost:8080/",
          "height": 332
        },
        "id": "NLXIN-V9Cqs9",
        "outputId": "2418ec87-09cf-408f-92a3-c0ee6971145c"
      },
      "execution_count": null,
      "outputs": [
        {
          "output_type": "execute_result",
          "data": {
            "text/plain": [
              "                       ML Model  Accuracy  f1_score  Recall  Precision\n",
              "0           Logistic Regression     0.934     0.941   0.943      0.927\n",
              "1           K-Nearest Neighbors     0.956     0.961   0.991      0.989\n",
              "2        Support Vector Machine     0.964     0.968   0.980      0.965\n",
              "3        Naive Bayes Classifier     0.605     0.454   0.292      0.997\n",
              "4                 Decision Tree     0.959     0.963   0.991      0.993\n",
              "5                 Random Forest     0.967     0.970   0.994      0.989\n",
              "6  Gradient Boosting Classifier     0.974     0.977   0.994      0.986\n",
              "7            XGBoost Classifier     0.952     0.958   0.968      0.947\n",
              "8        Multi-layer Perceptron     0.972     0.975   0.992      0.983"
            ],
            "text/html": [
              "\n",
              "  <div id=\"df-3417d941-8698-451c-8d58-7f337bea6902\">\n",
              "    <div class=\"colab-df-container\">\n",
              "      <div>\n",
              "<style scoped>\n",
              "    .dataframe tbody tr th:only-of-type {\n",
              "        vertical-align: middle;\n",
              "    }\n",
              "\n",
              "    .dataframe tbody tr th {\n",
              "        vertical-align: top;\n",
              "    }\n",
              "\n",
              "    .dataframe thead th {\n",
              "        text-align: right;\n",
              "    }\n",
              "</style>\n",
              "<table border=\"1\" class=\"dataframe\">\n",
              "  <thead>\n",
              "    <tr style=\"text-align: right;\">\n",
              "      <th></th>\n",
              "      <th>ML Model</th>\n",
              "      <th>Accuracy</th>\n",
              "      <th>f1_score</th>\n",
              "      <th>Recall</th>\n",
              "      <th>Precision</th>\n",
              "    </tr>\n",
              "  </thead>\n",
              "  <tbody>\n",
              "    <tr>\n",
              "      <th>0</th>\n",
              "      <td>Logistic Regression</td>\n",
              "      <td>0.934</td>\n",
              "      <td>0.941</td>\n",
              "      <td>0.943</td>\n",
              "      <td>0.927</td>\n",
              "    </tr>\n",
              "    <tr>\n",
              "      <th>1</th>\n",
              "      <td>K-Nearest Neighbors</td>\n",
              "      <td>0.956</td>\n",
              "      <td>0.961</td>\n",
              "      <td>0.991</td>\n",
              "      <td>0.989</td>\n",
              "    </tr>\n",
              "    <tr>\n",
              "      <th>2</th>\n",
              "      <td>Support Vector Machine</td>\n",
              "      <td>0.964</td>\n",
              "      <td>0.968</td>\n",
              "      <td>0.980</td>\n",
              "      <td>0.965</td>\n",
              "    </tr>\n",
              "    <tr>\n",
              "      <th>3</th>\n",
              "      <td>Naive Bayes Classifier</td>\n",
              "      <td>0.605</td>\n",
              "      <td>0.454</td>\n",
              "      <td>0.292</td>\n",
              "      <td>0.997</td>\n",
              "    </tr>\n",
              "    <tr>\n",
              "      <th>4</th>\n",
              "      <td>Decision Tree</td>\n",
              "      <td>0.959</td>\n",
              "      <td>0.963</td>\n",
              "      <td>0.991</td>\n",
              "      <td>0.993</td>\n",
              "    </tr>\n",
              "    <tr>\n",
              "      <th>5</th>\n",
              "      <td>Random Forest</td>\n",
              "      <td>0.967</td>\n",
              "      <td>0.970</td>\n",
              "      <td>0.994</td>\n",
              "      <td>0.989</td>\n",
              "    </tr>\n",
              "    <tr>\n",
              "      <th>6</th>\n",
              "      <td>Gradient Boosting Classifier</td>\n",
              "      <td>0.974</td>\n",
              "      <td>0.977</td>\n",
              "      <td>0.994</td>\n",
              "      <td>0.986</td>\n",
              "    </tr>\n",
              "    <tr>\n",
              "      <th>7</th>\n",
              "      <td>XGBoost Classifier</td>\n",
              "      <td>0.952</td>\n",
              "      <td>0.958</td>\n",
              "      <td>0.968</td>\n",
              "      <td>0.947</td>\n",
              "    </tr>\n",
              "    <tr>\n",
              "      <th>8</th>\n",
              "      <td>Multi-layer Perceptron</td>\n",
              "      <td>0.972</td>\n",
              "      <td>0.975</td>\n",
              "      <td>0.992</td>\n",
              "      <td>0.983</td>\n",
              "    </tr>\n",
              "  </tbody>\n",
              "</table>\n",
              "</div>\n",
              "      <button class=\"colab-df-convert\" onclick=\"convertToInteractive('df-3417d941-8698-451c-8d58-7f337bea6902')\"\n",
              "              title=\"Convert this dataframe to an interactive table.\"\n",
              "              style=\"display:none;\">\n",
              "        \n",
              "  <svg xmlns=\"http://www.w3.org/2000/svg\" height=\"24px\"viewBox=\"0 0 24 24\"\n",
              "       width=\"24px\">\n",
              "    <path d=\"M0 0h24v24H0V0z\" fill=\"none\"/>\n",
              "    <path d=\"M18.56 5.44l.94 2.06.94-2.06 2.06-.94-2.06-.94-.94-2.06-.94 2.06-2.06.94zm-11 1L8.5 8.5l.94-2.06 2.06-.94-2.06-.94L8.5 2.5l-.94 2.06-2.06.94zm10 10l.94 2.06.94-2.06 2.06-.94-2.06-.94-.94-2.06-.94 2.06-2.06.94z\"/><path d=\"M17.41 7.96l-1.37-1.37c-.4-.4-.92-.59-1.43-.59-.52 0-1.04.2-1.43.59L10.3 9.45l-7.72 7.72c-.78.78-.78 2.05 0 2.83L4 21.41c.39.39.9.59 1.41.59.51 0 1.02-.2 1.41-.59l7.78-7.78 2.81-2.81c.8-.78.8-2.07 0-2.86zM5.41 20L4 18.59l7.72-7.72 1.47 1.35L5.41 20z\"/>\n",
              "  </svg>\n",
              "      </button>\n",
              "      \n",
              "  <style>\n",
              "    .colab-df-container {\n",
              "      display:flex;\n",
              "      flex-wrap:wrap;\n",
              "      gap: 12px;\n",
              "    }\n",
              "\n",
              "    .colab-df-convert {\n",
              "      background-color: #E8F0FE;\n",
              "      border: none;\n",
              "      border-radius: 50%;\n",
              "      cursor: pointer;\n",
              "      display: none;\n",
              "      fill: #1967D2;\n",
              "      height: 32px;\n",
              "      padding: 0 0 0 0;\n",
              "      width: 32px;\n",
              "    }\n",
              "\n",
              "    .colab-df-convert:hover {\n",
              "      background-color: #E2EBFA;\n",
              "      box-shadow: 0px 1px 2px rgba(60, 64, 67, 0.3), 0px 1px 3px 1px rgba(60, 64, 67, 0.15);\n",
              "      fill: #174EA6;\n",
              "    }\n",
              "\n",
              "    [theme=dark] .colab-df-convert {\n",
              "      background-color: #3B4455;\n",
              "      fill: #D2E3FC;\n",
              "    }\n",
              "\n",
              "    [theme=dark] .colab-df-convert:hover {\n",
              "      background-color: #434B5C;\n",
              "      box-shadow: 0px 1px 3px 1px rgba(0, 0, 0, 0.15);\n",
              "      filter: drop-shadow(0px 1px 2px rgba(0, 0, 0, 0.3));\n",
              "      fill: #FFFFFF;\n",
              "    }\n",
              "  </style>\n",
              "\n",
              "      <script>\n",
              "        const buttonEl =\n",
              "          document.querySelector('#df-3417d941-8698-451c-8d58-7f337bea6902 button.colab-df-convert');\n",
              "        buttonEl.style.display =\n",
              "          google.colab.kernel.accessAllowed ? 'block' : 'none';\n",
              "\n",
              "        async function convertToInteractive(key) {\n",
              "          const element = document.querySelector('#df-3417d941-8698-451c-8d58-7f337bea6902');\n",
              "          const dataTable =\n",
              "            await google.colab.kernel.invokeFunction('convertToInteractive',\n",
              "                                                     [key], {});\n",
              "          if (!dataTable) return;\n",
              "\n",
              "          const docLinkHtml = 'Like what you see? Visit the ' +\n",
              "            '<a target=\"_blank\" href=https://colab.research.google.com/notebooks/data_table.ipynb>data table notebook</a>'\n",
              "            + ' to learn more about interactive tables.';\n",
              "          element.innerHTML = '';\n",
              "          dataTable['output_type'] = 'display_data';\n",
              "          await google.colab.output.renderOutput(dataTable, element);\n",
              "          const docLink = document.createElement('div');\n",
              "          docLink.innerHTML = docLinkHtml;\n",
              "          element.appendChild(docLink);\n",
              "        }\n",
              "      </script>\n",
              "    </div>\n",
              "  </div>\n",
              "  "
            ]
          },
          "metadata": {},
          "execution_count": 67
        }
      ]
    },
    {
      "cell_type": "code",
      "source": [
        "#Sorting the datafram on accuracy\n",
        "sorted_result=result.sort_values(by=['Accuracy', 'f1_score'],ascending=False).reset_index(drop=True)"
      ],
      "metadata": {
        "id": "6gaCtNCACvZM"
      },
      "execution_count": null,
      "outputs": []
    },
    {
      "cell_type": "code",
      "source": [
        "# dispalying total result\n",
        "sorted_result"
      ],
      "metadata": {
        "colab": {
          "base_uri": "https://localhost:8080/",
          "height": 332
        },
        "id": "b2prem3bCwfs",
        "outputId": "3e3ba1a6-367c-4c81-c8dc-eaf1b9b53ff9"
      },
      "execution_count": null,
      "outputs": [
        {
          "output_type": "execute_result",
          "data": {
            "text/plain": [
              "                       ML Model  Accuracy  f1_score  Recall  Precision\n",
              "0  Gradient Boosting Classifier     0.974     0.977   0.994      0.986\n",
              "1        Multi-layer Perceptron     0.972     0.975   0.992      0.983\n",
              "2                 Random Forest     0.967     0.970   0.994      0.989\n",
              "3        Support Vector Machine     0.964     0.968   0.980      0.965\n",
              "4                 Decision Tree     0.959     0.963   0.991      0.993\n",
              "5           K-Nearest Neighbors     0.956     0.961   0.991      0.989\n",
              "6            XGBoost Classifier     0.952     0.958   0.968      0.947\n",
              "7           Logistic Regression     0.934     0.941   0.943      0.927\n",
              "8        Naive Bayes Classifier     0.605     0.454   0.292      0.997"
            ],
            "text/html": [
              "\n",
              "  <div id=\"df-c2898572-e174-4c95-9d2d-1042c14f75da\">\n",
              "    <div class=\"colab-df-container\">\n",
              "      <div>\n",
              "<style scoped>\n",
              "    .dataframe tbody tr th:only-of-type {\n",
              "        vertical-align: middle;\n",
              "    }\n",
              "\n",
              "    .dataframe tbody tr th {\n",
              "        vertical-align: top;\n",
              "    }\n",
              "\n",
              "    .dataframe thead th {\n",
              "        text-align: right;\n",
              "    }\n",
              "</style>\n",
              "<table border=\"1\" class=\"dataframe\">\n",
              "  <thead>\n",
              "    <tr style=\"text-align: right;\">\n",
              "      <th></th>\n",
              "      <th>ML Model</th>\n",
              "      <th>Accuracy</th>\n",
              "      <th>f1_score</th>\n",
              "      <th>Recall</th>\n",
              "      <th>Precision</th>\n",
              "    </tr>\n",
              "  </thead>\n",
              "  <tbody>\n",
              "    <tr>\n",
              "      <th>0</th>\n",
              "      <td>Gradient Boosting Classifier</td>\n",
              "      <td>0.974</td>\n",
              "      <td>0.977</td>\n",
              "      <td>0.994</td>\n",
              "      <td>0.986</td>\n",
              "    </tr>\n",
              "    <tr>\n",
              "      <th>1</th>\n",
              "      <td>Multi-layer Perceptron</td>\n",
              "      <td>0.972</td>\n",
              "      <td>0.975</td>\n",
              "      <td>0.992</td>\n",
              "      <td>0.983</td>\n",
              "    </tr>\n",
              "    <tr>\n",
              "      <th>2</th>\n",
              "      <td>Random Forest</td>\n",
              "      <td>0.967</td>\n",
              "      <td>0.970</td>\n",
              "      <td>0.994</td>\n",
              "      <td>0.989</td>\n",
              "    </tr>\n",
              "    <tr>\n",
              "      <th>3</th>\n",
              "      <td>Support Vector Machine</td>\n",
              "      <td>0.964</td>\n",
              "      <td>0.968</td>\n",
              "      <td>0.980</td>\n",
              "      <td>0.965</td>\n",
              "    </tr>\n",
              "    <tr>\n",
              "      <th>4</th>\n",
              "      <td>Decision Tree</td>\n",
              "      <td>0.959</td>\n",
              "      <td>0.963</td>\n",
              "      <td>0.991</td>\n",
              "      <td>0.993</td>\n",
              "    </tr>\n",
              "    <tr>\n",
              "      <th>5</th>\n",
              "      <td>K-Nearest Neighbors</td>\n",
              "      <td>0.956</td>\n",
              "      <td>0.961</td>\n",
              "      <td>0.991</td>\n",
              "      <td>0.989</td>\n",
              "    </tr>\n",
              "    <tr>\n",
              "      <th>6</th>\n",
              "      <td>XGBoost Classifier</td>\n",
              "      <td>0.952</td>\n",
              "      <td>0.958</td>\n",
              "      <td>0.968</td>\n",
              "      <td>0.947</td>\n",
              "    </tr>\n",
              "    <tr>\n",
              "      <th>7</th>\n",
              "      <td>Logistic Regression</td>\n",
              "      <td>0.934</td>\n",
              "      <td>0.941</td>\n",
              "      <td>0.943</td>\n",
              "      <td>0.927</td>\n",
              "    </tr>\n",
              "    <tr>\n",
              "      <th>8</th>\n",
              "      <td>Naive Bayes Classifier</td>\n",
              "      <td>0.605</td>\n",
              "      <td>0.454</td>\n",
              "      <td>0.292</td>\n",
              "      <td>0.997</td>\n",
              "    </tr>\n",
              "  </tbody>\n",
              "</table>\n",
              "</div>\n",
              "      <button class=\"colab-df-convert\" onclick=\"convertToInteractive('df-c2898572-e174-4c95-9d2d-1042c14f75da')\"\n",
              "              title=\"Convert this dataframe to an interactive table.\"\n",
              "              style=\"display:none;\">\n",
              "        \n",
              "  <svg xmlns=\"http://www.w3.org/2000/svg\" height=\"24px\"viewBox=\"0 0 24 24\"\n",
              "       width=\"24px\">\n",
              "    <path d=\"M0 0h24v24H0V0z\" fill=\"none\"/>\n",
              "    <path d=\"M18.56 5.44l.94 2.06.94-2.06 2.06-.94-2.06-.94-.94-2.06-.94 2.06-2.06.94zm-11 1L8.5 8.5l.94-2.06 2.06-.94-2.06-.94L8.5 2.5l-.94 2.06-2.06.94zm10 10l.94 2.06.94-2.06 2.06-.94-2.06-.94-.94-2.06-.94 2.06-2.06.94z\"/><path d=\"M17.41 7.96l-1.37-1.37c-.4-.4-.92-.59-1.43-.59-.52 0-1.04.2-1.43.59L10.3 9.45l-7.72 7.72c-.78.78-.78 2.05 0 2.83L4 21.41c.39.39.9.59 1.41.59.51 0 1.02-.2 1.41-.59l7.78-7.78 2.81-2.81c.8-.78.8-2.07 0-2.86zM5.41 20L4 18.59l7.72-7.72 1.47 1.35L5.41 20z\"/>\n",
              "  </svg>\n",
              "      </button>\n",
              "      \n",
              "  <style>\n",
              "    .colab-df-container {\n",
              "      display:flex;\n",
              "      flex-wrap:wrap;\n",
              "      gap: 12px;\n",
              "    }\n",
              "\n",
              "    .colab-df-convert {\n",
              "      background-color: #E8F0FE;\n",
              "      border: none;\n",
              "      border-radius: 50%;\n",
              "      cursor: pointer;\n",
              "      display: none;\n",
              "      fill: #1967D2;\n",
              "      height: 32px;\n",
              "      padding: 0 0 0 0;\n",
              "      width: 32px;\n",
              "    }\n",
              "\n",
              "    .colab-df-convert:hover {\n",
              "      background-color: #E2EBFA;\n",
              "      box-shadow: 0px 1px 2px rgba(60, 64, 67, 0.3), 0px 1px 3px 1px rgba(60, 64, 67, 0.15);\n",
              "      fill: #174EA6;\n",
              "    }\n",
              "\n",
              "    [theme=dark] .colab-df-convert {\n",
              "      background-color: #3B4455;\n",
              "      fill: #D2E3FC;\n",
              "    }\n",
              "\n",
              "    [theme=dark] .colab-df-convert:hover {\n",
              "      background-color: #434B5C;\n",
              "      box-shadow: 0px 1px 3px 1px rgba(0, 0, 0, 0.15);\n",
              "      filter: drop-shadow(0px 1px 2px rgba(0, 0, 0, 0.3));\n",
              "      fill: #FFFFFF;\n",
              "    }\n",
              "  </style>\n",
              "\n",
              "      <script>\n",
              "        const buttonEl =\n",
              "          document.querySelector('#df-c2898572-e174-4c95-9d2d-1042c14f75da button.colab-df-convert');\n",
              "        buttonEl.style.display =\n",
              "          google.colab.kernel.accessAllowed ? 'block' : 'none';\n",
              "\n",
              "        async function convertToInteractive(key) {\n",
              "          const element = document.querySelector('#df-c2898572-e174-4c95-9d2d-1042c14f75da');\n",
              "          const dataTable =\n",
              "            await google.colab.kernel.invokeFunction('convertToInteractive',\n",
              "                                                     [key], {});\n",
              "          if (!dataTable) return;\n",
              "\n",
              "          const docLinkHtml = 'Like what you see? Visit the ' +\n",
              "            '<a target=\"_blank\" href=https://colab.research.google.com/notebooks/data_table.ipynb>data table notebook</a>'\n",
              "            + ' to learn more about interactive tables.';\n",
              "          element.innerHTML = '';\n",
              "          dataTable['output_type'] = 'display_data';\n",
              "          await google.colab.output.renderOutput(dataTable, element);\n",
              "          const docLink = document.createElement('div');\n",
              "          docLink.innerHTML = docLinkHtml;\n",
              "          element.appendChild(docLink);\n",
              "        }\n",
              "      </script>\n",
              "    </div>\n",
              "  </div>\n",
              "  "
            ]
          },
          "metadata": {},
          "execution_count": 69
        }
      ]
    },
    {
      "cell_type": "code",
      "source": [
        "#checking the feature improtance in the model\n",
        "plt.figure(figsize=(9,7))\n",
        "n_features = X_train.shape[1]\n",
        "plt.barh(range(n_features), gbc.feature_importances_, align='center')\n",
        "plt.yticks(np.arange(n_features), X_train.columns)\n",
        "plt.title(\"Feature importances using permutation on full model\")\n",
        "plt.xlabel(\"Feature importance\")\n",
        "plt.ylabel(\"Feature\")\n",
        "plt.show()"
      ],
      "metadata": {
        "colab": {
          "base_uri": "https://localhost:8080/",
          "height": 458
        },
        "id": "qIbKLW5jC2EW",
        "outputId": "3efd31b5-b774-4490-fb1f-86c888761b5c"
      },
      "execution_count": null,
      "outputs": [
        {
          "output_type": "display_data",
          "data": {
            "text/plain": [
              "<Figure size 648x504 with 1 Axes>"
            ],
            "image/png": "[encoded data removed]"
          },
          "metadata": {
            "needs_background": "light"
          }
        }
      ]
    },
    {
      "cell_type": "code",
      "source": [
        "import numpy as np\n",
        "import pandas as pd\n",
        "from sklearn import metrics \n",
        "import warnings\n",
        "warnings.filterwarnings('ignore')\n",
        "\n",
        "# Gradient Boosting Classifier Model\n",
        "from sklearn.ensemble import GradientBoostingClassifier"
      ],
      "metadata": {
        "id": "4bnb0No8E--w"
      },
      "execution_count": null,
      "outputs": []
    },
    {
      "cell_type": "code",
      "source": [
        "data = pd.read_csv(\"phishing.csv\")\n",
        "#droping index column\n",
        "data = data.drop(['Index'],axis = 1)\n",
        "# Splitting the dataset into dependant and independant fetature\n",
        "\n",
        "X = data.drop([\"class\"],axis =1)\n",
        "y = data[\"class\"]\n",
        "\n",
        "# instantiate the model\n",
        "gbc = GradientBoostingClassifier(max_depth=4,learning_rate=0.7)\n",
        "\n",
        "# fit the model \n",
        "gbc.fit(X,y)\n"
      ],
      "metadata": {
        "colab": {
          "base_uri": "https://localhost:8080/"
        },
        "id": "XHXAgm0tFW2K",
        "outputId": "d2f2def3-8b7b-43b0-8182-dd9f07f144ff"
      },
      "execution_count": null,
      "outputs": [
        {
          "output_type": "execute_result",
          "data": {
            "text/plain": [
              "GradientBoostingClassifier(learning_rate=0.7, max_depth=4)"
            ]
          },
          "metadata": {},
          "execution_count": 72
        }
      ]
    },
    {
      "cell_type": "code",
      "source": [
        " x = np.array(generate_data_set(\"https://www.linkedin.com\")).reshape(1,30) \n",
        " y_pred =gbc.predict(x)[0]\n",
        " #1 is safe       \n",
        " #-1 is unsafe\n",
        " y_pro_phishing = gbc.predict_proba(x)[0,0]\n",
        " y_pro_non_phishing = gbc.predict_proba(x)[0,1]\n",
        "  # if(y_pred ==1 ):\n",
        " pred = \"It is {0:.2f} % safe to go \".format(y_pro_phishing*100)\n",
        " print(y_pred)"
      ],
      "metadata": {
        "colab": {
          "base_uri": "https://localhost:8080/"
        },
        "id": "kGVnd31iFeu_",
        "outputId": "299ce070-7827-4ece-c8bf-f1180c488e07"
      },
      "execution_count": null,
      "outputs": [
        {
          "output_type": "stream",
          "name": "stdout",
          "text": [
            "1\n"
          ]
        }
      ]
    }
  ]
}